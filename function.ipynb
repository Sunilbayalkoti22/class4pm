{
 "cells": [
  {
   "cell_type": "code",
   "execution_count": 2,
   "metadata": {},
   "outputs": [],
   "source": [
    "#pre defined functions\n",
    "#print()\n",
    "#type()\n",
    "#int()\n",
    "#str()\n",
    "#float()\n",
    "#input()\n"
   ]
  },
  {
   "cell_type": "code",
   "execution_count": 3,
   "metadata": {},
   "outputs": [],
   "source": [
    "# def <function_name>():  #function defining \n",
    "#     <operations>\n",
    "    \n",
    "#     <function_name>()  #function celling"
   ]
  },
  {
   "cell_type": "code",
   "execution_count": 4,
   "metadata": {},
   "outputs": [
    {
     "name": "stdout",
     "output_type": "stream",
     "text": [
      "Hello World\n"
     ]
    }
   ],
   "source": [
    "def hello ():\n",
    "    print(\"Hello World\")\n",
    "    \n",
    "hello()"
   ]
  },
  {
   "cell_type": "code",
   "execution_count": 5,
   "metadata": {},
   "outputs": [
    {
     "name": "stdout",
     "output_type": "stream",
     "text": [
      "Enter  l=2\n",
      "Enter  b=3\n",
      "The area is = 6\n"
     ]
    }
   ],
   "source": [
    "def area():\n",
    "    l=int(input(\"Enter  l=\"))\n",
    "    b=int(input(\"Enter  b=\"))\n",
    "    a=l*b\n",
    "    print(\"The area is =\",a)\n",
    "    \n",
    "area()"
   ]
  },
  {
   "cell_type": "code",
   "execution_count": 6,
   "metadata": {},
   "outputs": [
    {
     "name": "stdout",
     "output_type": "stream",
     "text": [
      "Enter the value of p=3\n",
      "Enter the value of t=4\n",
      "Enter the value of r=5\n",
      "Simple interest is= 0.6\n"
     ]
    }
   ],
   "source": [
    "def cal():\n",
    "    p=int(input(\"Enter the value of p=\"))     #local variable  opposite global variable\n",
    "    t=float(input(\"Enter the value of t=\"))   #local variable\n",
    "    r=float(input(\"Enter the value of r=\"))   #local variable\n",
    "    i=p*t*r/100\n",
    "    print(\"Simple interest is=\",i)\n",
    "    \n",
    "cal()"
   ]
  },
  {
   "cell_type": "code",
   "execution_count": 7,
   "metadata": {},
   "outputs": [
    {
     "name": "stdout",
     "output_type": "stream",
     "text": [
      "Enter the value of p=3\n",
      "Enter the value of t=4\n",
      "Enter the value of r=5\n",
      "Simple interest is= 0.6\n",
      "3 4.0 5.0\n"
     ]
    }
   ],
   "source": [
    "p=int(input(\"Enter the value of p=\"))     #Global variable  \n",
    "t=float(input(\"Enter the value of t=\"))   #Global variable\n",
    "r=float(input(\"Enter the value of r=\"))   #GLobal variable\n",
    "\n",
    "def cal():\n",
    "    \n",
    "    i=p*t*r/100  #Local varibale\n",
    "    print(\"Simple interest is=\",i)\n",
    "    \n",
    "cal()\n",
    "print(p,t,r)\n"
   ]
  },
  {
   "cell_type": "code",
   "execution_count": 8,
   "metadata": {},
   "outputs": [],
   "source": [
    "# function with no arguement and no return type \n",
    "# function with arguement and no return type \n",
    "# function with no arguement and return type \n",
    "# function with arguement and return type"
   ]
  },
  {
   "cell_type": "code",
   "execution_count": null,
   "metadata": {},
   "outputs": [],
   "source": []
  },
  {
   "cell_type": "code",
   "execution_count": 1,
   "metadata": {},
   "outputs": [
    {
     "name": "stdout",
     "output_type": "stream",
     "text": [
      "Enter  l=100\n",
      "Enter  b=50\n",
      "The area is = 5000\n"
     ]
    }
   ],
   "source": [
    "# function with no arguement and no return type \n",
    "def area():\n",
    "    l=int(input(\"Enter  l=\"))\n",
    "    b=int(input(\"Enter  b=\"))\n",
    "    a=l*b\n",
    "    print(\"The area is =\",a)\n",
    "    \n",
    "area()"
   ]
  },
  {
   "cell_type": "code",
   "execution_count": null,
   "metadata": {},
   "outputs": [],
   "source": [
    "# function with arguement and no return type \n",
    "# def<function_name>(a,b,c):\n",
    "#     <operations>\n",
    "    \n",
    "# <function_name>(a,b,c)"
   ]
  },
  {
   "cell_type": "code",
   "execution_count": 2,
   "metadata": {},
   "outputs": [
    {
     "name": "stdout",
     "output_type": "stream",
     "text": [
      "50\n"
     ]
    }
   ],
   "source": [
    "# function with arguement and no return type \n",
    "def area(l,b): \n",
    "    a=l*b\n",
    "    print(a)\n",
    "    \n",
    "area(10,5)"
   ]
  },
  {
   "cell_type": "code",
   "execution_count": 3,
   "metadata": {},
   "outputs": [
    {
     "name": "stdout",
     "output_type": "stream",
     "text": [
      "Enter l=10\n",
      "Enter b=20\n",
      "The area is = 200\n"
     ]
    }
   ],
   "source": [
    "# function with arguement and no return type \n",
    "def area(l,b): \n",
    "    a=l*b\n",
    "    print(\"The area is =\", a)\n",
    "l=int(input(\"Enter l=\"))\n",
    "b=int(input(\"Enter b=\"))\n",
    "area(l,b)"
   ]
  },
  {
   "cell_type": "code",
   "execution_count": 4,
   "metadata": {},
   "outputs": [
    {
     "name": "stdout",
     "output_type": "stream",
     "text": [
      "Enter l=10\n",
      "Enter b=5\n",
      "50\n"
     ]
    }
   ],
   "source": [
    "# function with arguement and no return type \n",
    "\n",
    "l=int(input(\"Enter l=\"))\n",
    "b=int(input(\"Enter b=\"))\n",
    "def area(x,y): \n",
    "    a=x*y\n",
    "    print(a)\n",
    "\n",
    "area(l,b)"
   ]
  },
  {
   "cell_type": "code",
   "execution_count": 5,
   "metadata": {},
   "outputs": [
    {
     "name": "stdout",
     "output_type": "stream",
     "text": [
      "Enter l=10\n",
      "Enter b=7\n",
      "Enter h=5\n",
      "70\n",
      "350\n"
     ]
    }
   ],
   "source": [
    "# function with arguement and no return type \n",
    "\n",
    "l=int(input(\"Enter l=\"))\n",
    "b=int(input(\"Enter b=\"))\n",
    "h=int(input(\"Enter h=\"))\n",
    "def area(x,y): \n",
    "    a=x*y\n",
    "    print(a)\n",
    "\n",
    "def volume(x,y,z):\n",
    "    v=x*y*z\n",
    "    print(v)\n",
    "\n",
    "\n",
    "area(l,b)\n",
    "volume(l,b,h)"
   ]
  },
  {
   "cell_type": "code",
   "execution_count": 2,
   "metadata": {},
   "outputs": [
    {
     "name": "stdout",
     "output_type": "stream",
     "text": [
      "C\n",
      "c++\n",
      "java\n",
      "Python\n"
     ]
    }
   ],
   "source": [
    "def language(lan=\"Python\"):   #confuse\n",
    "    print(lan)\n",
    "    \n",
    "language(\"C\")\n",
    "language(\"c++\")\n",
    "language(\"java\")\n",
    "language()"
   ]
  },
  {
   "cell_type": "code",
   "execution_count": 7,
   "metadata": {},
   "outputs": [
    {
     "name": "stdout",
     "output_type": "stream",
     "text": [
      "200\n"
     ]
    }
   ],
   "source": [
    "\n",
    "\n",
    "def area(x,y=10): \n",
    "    a=x*y\n",
    "    print(a)\n",
    "\n",
    "area(20)"
   ]
  },
  {
   "cell_type": "code",
   "execution_count": 8,
   "metadata": {},
   "outputs": [
    {
     "name": "stdout",
     "output_type": "stream",
     "text": [
      "300\n"
     ]
    }
   ],
   "source": [
    "\n",
    "\n",
    "def area(x,y=10): \n",
    "    a=x*y\n",
    "    print(a)\n",
    "\n",
    "area(20,15)"
   ]
  },
  {
   "cell_type": "code",
   "execution_count": 11,
   "metadata": {},
   "outputs": [
    {
     "name": "stdout",
     "output_type": "stream",
     "text": [
      "Hello World\n"
     ]
    }
   ],
   "source": [
    "#return type function \n",
    "\n",
    "def hello():\n",
    "    a=\"Hello World\"\n",
    "    return a\n",
    "    \n",
    "b=hello()\n",
    "print(b)"
   ]
  },
  {
   "cell_type": "code",
   "execution_count": 4,
   "metadata": {},
   "outputs": [
    {
     "name": "stdout",
     "output_type": "stream",
     "text": [
      "Enter l=10\n",
      "Enter b=7\n",
      "The area is= 70\n",
      "The volume is= 700\n"
     ]
    }
   ],
   "source": [
    "def area():\n",
    "    l=int(input(\"Enter l=\"))\n",
    "    b=int(input(\"Enter b=\"))\n",
    "    a=l*b\n",
    "    return a\n",
    "\n",
    "ar= area()\n",
    "print(\"The area is=\", ar)\n",
    "h=10\n",
    "v=ar*h\n",
    "print(\"The volume is=\",v)"
   ]
  },
  {
   "cell_type": "code",
   "execution_count": 2,
   "metadata": {},
   "outputs": [
    {
     "name": "stdout",
     "output_type": "stream",
     "text": [
      "Enter l=10\n",
      "Enter b=20\n",
      "The area is= 200\n",
      "The volume is= 2000\n"
     ]
    }
   ],
   "source": [
    "def area():\n",
    "    a=l*b\n",
    "    return a\n",
    "l=int(input(\"Enter l=\"))\n",
    "b=int(input(\"Enter b=\"))\n",
    "\n",
    "ar= area()\n",
    "print(\"The area is=\", ar)\n",
    "h=10\n",
    "v=ar*h\n",
    "print(\"The volume is=\",v)"
   ]
  },
  {
   "cell_type": "markdown",
   "metadata": {},
   "source": [
    "def area():\n",
    "    l=int(input(\"Enter l=\"))\n",
    "    b=int(input(\"Enter b=\"))\n",
    "    a=l*b\n",
    "    return a\n",
    "\n",
    "ar= area()\n",
    "print(\"The area is=\", ar)\n",
    "h=int(input(\"Enter h=\"))\n",
    "v=ar*h\n",
    "print(\"The volume is=\",v)"
   ]
  },
  {
   "cell_type": "code",
   "execution_count": 1,
   "metadata": {},
   "outputs": [
    {
     "name": "stdout",
     "output_type": "stream",
     "text": [
      "Enter name= Sunil \n",
      "Enter age= 18\n",
      "Enter address= Gorkha\n"
     ]
    },
    {
     "data": {
      "text/plain": [
       "'Hello my name is Sunil  I am 18 I am from Gorkha'"
      ]
     },
     "execution_count": 1,
     "metadata": {},
     "output_type": "execute_result"
    }
   ],
   "source": [
    "# function with arguement and return type\n",
    "\n",
    "def info(name,age,add):\n",
    "    info = \"Hello my name is \"+name+\" I am \"+str(age)+\" I am from \"+add \n",
    "    return info\n",
    "name=input(\"Enter name= \")\n",
    "age=int(input(\"Enter age= \"))\n",
    "add=input(\"Enter address= \")\n",
    "\n",
    "info(name,age,add)"
   ]
  },
  {
   "cell_type": "code",
   "execution_count": null,
   "metadata": {},
   "outputs": [],
   "source": [
    "# function with arguement and return type\n",
    "\n",
    "def info(name,fahter,age,salary,add):\n",
    "    info = \"Hello my name is \"+name+\"My fahter name is\"+fahter+\" I am \"+str(age)+\"My monthly salary is\"+str(salary)+\" I am from \"+add \n",
    "    return info\n",
    "name=input(\"Enter name= \")\n",
    "father  = input(\"Enter father =\")\n",
    "age=int(input(\"Enter age= \"))\n",
    "salary = int(input(\"Enter salary = \"))\n",
    "add=input(\"Enter address= \")\n",
    "\n",
    "info(name,fahter,age,salary,add)"
   ]
  },
  {
   "cell_type": "code",
   "execution_count": 1,
   "metadata": {},
   "outputs": [
    {
     "name": "stdout",
     "output_type": "stream",
     "text": [
      "Enter l=10\n",
      "Enter b=10\n",
      "Enter h=10\n",
      "The area is= 100\n",
      "The volume is= 1000\n"
     ]
    }
   ],
   "source": [
    "def cal(l,b,h):\n",
    "    a=l*b\n",
    "    v=l*b*h\n",
    "    return a,v\n",
    "\n",
    "l=int(input(\"Enter l=\"))\n",
    "b=int(input(\"Enter b=\"))\n",
    "h=int(input(\"Enter h=\"))\n",
    "\n",
    "area,volume=cal(l,b,h)\n",
    "print(\"The area is=\",area)\n",
    "print(\"The volume is=\",volume)"
   ]
  },
  {
   "cell_type": "code",
   "execution_count": 4,
   "metadata": {},
   "outputs": [
    {
     "name": "stdout",
     "output_type": "stream",
     "text": [
      "Enter l=10\n",
      "Enter b=20\n",
      "Enter h=15\n",
      "The area is= 200\n",
      "The volume is= 3000\n"
     ]
    }
   ],
   "source": [
    "#muntiple type function\n",
    "\n",
    "def area(l,b):\n",
    "    a=l*b\n",
    "    return a\n",
    "\n",
    "def volume(l,b,h):\n",
    "    v=l*b*h\n",
    "    return v\n",
    "\n",
    "l=int(input(\"Enter l=\"))\n",
    "b=int(input(\"Enter b=\"))\n",
    "h=int(input(\"Enter h=\"))\n",
    "\n",
    "ar=area(l,b,)\n",
    "vo=volume(l,b,h)\n",
    "print(\"The area is=\",ar)\n",
    "print(\"The volume is=\",vo)"
   ]
  },
  {
   "cell_type": "code",
   "execution_count": 5,
   "metadata": {},
   "outputs": [
    {
     "name": "stdout",
     "output_type": "stream",
     "text": [
      "Enter l=20\n",
      "Enter b=15\n",
      "Enter h=10\n",
      "The area is= 300\n",
      "The volume is= 3000\n"
     ]
    }
   ],
   "source": [
    "def area(l,b):\n",
    "    a=l*b\n",
    "    \n",
    "    return a\n",
    "def volume(l,b,h):\n",
    "    v=area(l,b)*h\n",
    "    return v\n",
    "\n",
    "l=int(input(\"Enter l=\"))\n",
    "b=int(input(\"Enter b=\"))\n",
    "h=int(input(\"Enter h=\"))\n",
    "\n",
    "ar=area(l,b,)\n",
    "vo=volume(l,b,h)\n",
    "print(\"The area is=\",ar)\n",
    "print(\"The volume is=\",vo)"
   ]
  },
  {
   "cell_type": "code",
   "execution_count": 2,
   "metadata": {},
   "outputs": [
    {
     "name": "stdout",
     "output_type": "stream",
     "text": [
      "Enter name= Sunil Nepali \n",
      "Enter age= 20 \n",
      "Enter address= Gorkha\n",
      "Hello my name is Sunil Nepali  I am 20 I am from Gorkha\n"
     ]
    }
   ],
   "source": [
    "# function with arguement(tuple or arrey) and return type\n",
    "\n",
    "def i(x):     #we can add any letter in place of i\n",
    "    name,age,add = x\n",
    "    i = \"Hello my name is \"+name+\" I am \"+str(age)+\" I am from \"+add \n",
    "    return i\n",
    "name=input(\"Enter name= \")\n",
    "age=int(input(\"Enter age= \"))\n",
    "add=input(\"Enter address= \")\n",
    "\n",
    "x = (name,age,add)\n",
    "print(i(x))"
   ]
  },
  {
   "cell_type": "code",
   "execution_count": null,
   "metadata": {},
   "outputs": [
    {
     "name": "stdout",
     "output_type": "stream",
     "text": [
      "Hello World\n",
      "Enter y for more calculations=y\n",
      "Hello World\n",
      "Enter y for more calculations=y\n",
      "Hello World\n",
      "Enter y for more calculations=y\n",
      "Hello World\n",
      "Enter y for more calculations=y\n",
      "Hello World\n",
      "Enter y for more calculations=y\n",
      "Hello World\n",
      "Enter y for more calculations=y\n",
      "Hello World\n"
     ]
    }
   ],
   "source": [
    "#Recursive function (call itself)\n",
    "\n",
    "def hello():\n",
    "    print(\"Hello World\")\n",
    "    x = input(\"Enter y for more calculations=\")\n",
    "    if x == \"y\":\n",
    "        hello()   #hello is inside of if x == \"y\":\n",
    "    \n",
    "    \n",
    "hello()\n",
    "\n",
    "\n"
   ]
  },
  {
   "cell_type": "code",
   "execution_count": 1,
   "metadata": {},
   "outputs": [
    {
     "name": "stdout",
     "output_type": "stream",
     "text": [
      "Enter p=1000\n",
      "Enter t=10\n",
      "Enter r=5.5\n",
      "The i =  550.0\n",
      "Enter y for more calculations = y\n",
      "Enter p=1000\n",
      "Enter t=56\n",
      "Enter r=55\n",
      "The i =  30800.0\n",
      "Enter y for more calculations = b\n"
     ]
    }
   ],
   "source": [
    "def cal():\n",
    "    p=float(input(\"Enter p=\"))\n",
    "    t=float(input(\"Enter t=\"))\n",
    "    r=float(input(\"Enter r=\"))\n",
    "    i = p*t*r/100\n",
    "    print(\"The i = \",i)\n",
    "    x = input(\"Enter y for more calculations = \")\n",
    "    if x == 'y':\n",
    "        cal()\n",
    "        \n",
    "cal()"
   ]
  },
  {
   "cell_type": "markdown",
   "metadata": {},
   "source": []
  }
 ],
 "metadata": {
  "kernelspec": {
   "display_name": "Python 3",
   "language": "python",
   "name": "python3"
  },
  "language_info": {
   "codemirror_mode": {
    "name": "ipython",
    "version": 3
   },
   "file_extension": ".py",
   "mimetype": "text/x-python",
   "name": "python",
   "nbconvert_exporter": "python",
   "pygments_lexer": "ipython3",
   "version": "3.8.5"
  }
 },
 "nbformat": 4,
 "nbformat_minor": 4
}
