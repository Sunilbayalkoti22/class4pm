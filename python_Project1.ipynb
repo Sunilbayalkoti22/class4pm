{
 "cells": [
  {
   "cell_type": "code",
   "execution_count": 2,
   "metadata": {},
   "outputs": [
    {
     "name": "stderr",
     "output_type": "stream",
     "text": [
      "C:\\Users\\Rajendra\\anaconda3\\lib\\site-packages\\bs4\\__init__.py:417: MarkupResemblesLocatorWarning: \"https://edusanjal.com/blog/salary-civil-servants-nepal/\" looks like a URL. Beautiful Soup is not an HTTP client. You should probably use an HTTP client like requests to get the document behind the URL, and feed that document to Beautiful Soup.\n",
      "  warnings.warn(\n"
     ]
    },
    {
     "data": {
      "text/plain": [
       "<Response [200]>"
      ]
     },
     "execution_count": 2,
     "metadata": {},
     "output_type": "execute_result"
    }
   ],
   "source": [
    "from bs4 import BeautifulSoup\n",
    "import requests\n",
    "url = BeautifulSoup('https://edusanjal.com/blog/salary-civil-servants-nepal/', 'html.parser')\n",
    "response = requests.get(url)\n",
    "response"
   ]
  },
  {
   "cell_type": "code",
   "execution_count": 4,
   "metadata": {},
   "outputs": [],
   "source": [
    "response = response.text\n"
   ]
  },
  {
   "cell_type": "code",
   "execution_count": 5,
   "metadata": {},
   "outputs": [
    {
     "data": {
      "text/plain": [
       "<!DOCTYPE html>\n",
       "<html lang=\"en\">\n",
       "<head lang=\"en\">\n",
       "<meta charset=\"utf-8\"/>\n",
       "<meta content=\"width=device-width, initial-scale=1.0\" name=\"viewport\"/>\n",
       "<meta content=\"edusanjal, nepal, colleges, kathmandu, universities, scholarships, education, courses, schools\" name=\"keywords\"/>\n",
       "<meta content=\"summary\" name=\"twitter:card\"/>\n",
       "<meta content=\"@edusanjal\" name=\"twitter:site\"/>\n",
       "<meta content=\"447552558688033\" name=\"fb:app_id\"/>\n",
       "<meta content=\"website\" property=\"og:type\"/>\n",
       "<meta content=\"Salary of Civil Servants (Government Officials) in Nepal\" data-react-helmet=\"true\" property=\"og:title\"/><meta content=\"Government job is considered as one of the sought after jobs here in Nepal. Each year thousands of youths compete in a rigorous examination every year conducted by Lok Sewa Aayog to get Govern\" data-react-helmet=\"true\" property=\"og:description\"/><meta content=\"Government job is considered as one of the sought after jobs here in Nepal. Each year thousands of youths compete in a rigorous examination every year conducted by Lok Sewa Aayog to get Govern\" data-react-helmet=\"true\" name=\"og:description\"/><meta content=\"Government job is considered as one of the sought after jobs here in Nepal. Each year thousands of youths compete in a rigorous examination every year conducted by Lok Sewa Aayog to get Govern\" data-react-helmet=\"true\" property=\"description\"/><meta content=\"Government job is considered as one of the sought after jobs here in Nepal. Each year thousands of youths compete in a rigorous examination every year conducted by Lok Sewa Aayog to get Govern\" data-react-helmet=\"true\" name=\"description\"/><meta content=\"http://edusanjal.com/blog/salary-civil-servants-nepal/\" data-react-helmet=\"true\" property=\"og:url\"/><meta content=\"http://edusanjal.com/static/img/edusanjal-200-9WRV.png\" data-react-helmet=\"true\" property=\"og:image\"/><meta content=\"200\" data-react-helmet=\"true\" property=\"og:image:width\"/><meta content=\"200\" data-react-helmet=\"true\" property=\"og:image:height\"/>\n",
       "<meta content=\"Edusanjal\" property=\"og:site_name\"/>\n",
       "<meta content=\"#38003c\" name=\"msapplication-TileColor\"/>\n",
       "<meta content=\"#007670\" name=\"theme-color\"/>\n",
       "<title data-react-helmet=\"true\" itemprop=\"headline\">Salary of Civil Servants (Government Officials) in Nepal</title>\n",
       "<link async=\"\" href=\"/static/manifest/manifest.json\" rel=\"manifest\"/>\n",
       "<link href=\"https://cdn1.edusanjal.com/es/css/style.5b3a62226bc0f8d1723e.css\" rel=\"stylesheet\"/>\n",
       "<script async=\"\" src=\"//pagead2.googlesyndication.com/pagead/js/adsbygoogle.js\"></script>\n",
       "<!-- Hotjar Tracking Code for edusanjal.com -->\n",
       "<script>\n",
       "    (function(h,o,t,j,a,r){\n",
       "        h.hj=h.hj||function(){(h.hj.q=h.hj.q||[]).push(arguments)};\n",
       "        h._hjSettings={hjid:841082,hjsv:6};\n",
       "        a=o.getElementsByTagName('head')[0];\n",
       "        r=o.createElement('script');r.async=1;\n",
       "        r.src=t+h._hjSettings.hjid+j+h._hjSettings.hjsv;\n",
       "        a.appendChild(r);\n",
       "    })(window,document,'https://static.hotjar.com/c/hotjar-','.js?sv=');\n",
       "  </script>\n",
       "</head>\n",
       "<body>\n",
       "<noscript>\n",
       "  You need to enable JavaScript to run this app.\n",
       "</noscript>\n",
       "<div id=\"app\"><div data-react-checksum=\"1504429843\" data-reactid=\"1\" data-reactroot=\"\"><div class=\"mb-2\" data-reactid=\"2\"><header class=\"header nav-container hidden-md-down\" data-reactid=\"3\"><nav class=\"navbar navbar-toggleable-md navbar-inverse navbar-light nav-1\" data-reactid=\"4\"><button aria-controls=\"navbarSupportedContent\" aria-expanded=\"false\" aria-label=\"Toggle navigation\" class=\"navbar-toggler navbar-toggler-right\" data-reactid=\"5\" data-target=\"#navbarSupportedContent\" data-toggle=\"collapse\" type=\"button\"><span class=\"navbar-toggler-icon\" data-reactid=\"6\"></span></button><a class=\"navbar-brand\" data-reactid=\"7\" href=\"/\"><img alt=\"edusanjal\" class=\"d-inline-block align-top\" data-reactid=\"8\" src=\"/static/img/edusanjal.svg\" width=\"56\"/><span class=\"ml-2\" data-reactid=\"9\">edusanjal</span></a><div class=\"collapse navbar-collapse\" data-reactid=\"10\"><ul class=\"navbar-nav mr-auto\" data-reactid=\"11\"></ul><div class=\"user-menu\" data-reactid=\"12\"><div class=\"nav-item\" data-reactid=\"13\"><ul class=\"navbar-nav mr-auto\" data-reactid=\"14\"><li class=\"nav-item\" data-reactid=\"15\"><a class=\"nav-link\" data-reactid=\"16\" href=\"/signup/\">Sign Up</a></li><li data-reactid=\"17\"><a class=\"nav-link\" data-reactid=\"18\" href=\"/login/\">Login</a></li></ul></div></div></div></nav><nav class=\"navbar navbar-toggleable-md navbar-inverse nav-2\" data-reactid=\"19\"><div class=\"collapse navbar-collapse\" data-reactid=\"20\"><ul class=\"navbar-nav\" data-reactid=\"21\"><li class=\"navbar-nav\" data-reactid=\"22\"><a class=\"nav-link\" data-reactid=\"23\" href=\"/school/\">Schools</a></li><li class=\"navbar-nav\" data-reactid=\"24\"><a class=\"nav-link\" data-reactid=\"25\" href=\"/college/\">Colleges</a></li><li class=\"navbar-nav\" data-reactid=\"26\"><a class=\"nav-link\" data-reactid=\"27\" href=\"/course/\">Courses</a></li><li class=\"navbar-nav\" data-reactid=\"28\"><a class=\"nav-link\" data-reactid=\"29\" href=\"/admission/\">Admissions</a></li></ul><ul class=\"navbar-nav mr-auto\" data-reactid=\"30\"></ul><ul class=\"navbar-nav\" data-reactid=\"31\"><li class=\"list-inline-item mr-auto\" data-reactid=\"32\"><a class=\"nav-link\" data-reactid=\"33\" href=\"/university/\">Universities</a></li><li class=\"list-inline-item mr-auto\" data-reactid=\"34\"><a class=\"nav-link\" data-reactid=\"35\" href=\"/career/\">Careers</a></li><li class=\"list-inline-item mr-auto\" data-reactid=\"36\"><a class=\"nav-link\" data-reactid=\"37\" href=\"/event/\">Events</a></li><li class=\"list-inline-item mr-auto\" data-reactid=\"38\"><a class=\"nav-link\" data-reactid=\"39\" href=\"/news/\">News</a></li><li class=\"list-inline-item mr-auto\" data-reactid=\"40\"><a class=\"nav-link\" data-reactid=\"41\" href=\"/blog/\">Blogs</a></li><li class=\"list-inline-item mr-auto\" data-reactid=\"42\"><a class=\"nav-link\" data-reactid=\"43\" href=\"/samachar/\">समाचार</a></li><li class=\"list-inline-item mr-auto\" data-reactid=\"44\"><a class=\"nav-link\" data-reactid=\"45\" href=\"/scholarship/\">Scholarships</a></li><li class=\"list-inline-item mr-auto\" data-reactid=\"46\"><a class=\"nav-link\" data-reactid=\"47\" href=\"/vacancy/\">Vacancies</a></li><li class=\"list-inline-item mr-auto\" data-reactid=\"48\"><a class=\"nav-link\" data-reactid=\"49\" href=\"/ranking/\">Ranks</a></li><li class=\"list-inline-item mr-auto\" data-reactid=\"50\"><a class=\"nav-link\" data-reactid=\"51\" href=\"/council/\">Council</a></li></ul></div></nav></header><header class=\"header nav-container hidden-lg-up\" data-reactid=\"52\"><nav class=\"mb-3 navbar navbar-toggleable-md navbar-inverse\" data-reactid=\"53\"><button aria-controls=\"navbarSupportedContent\" aria-expanded=\"false\" aria-label=\"Toggle navigation\" class=\"navbar-toggler navbar-toggler-right\" data-reactid=\"54\" data-target=\"#navbarSupportedContent\" data-toggle=\"collapse\" type=\"button\"><span class=\"navbar-toggler-icon\" data-reactid=\"55\"></span></button><a class=\"navbar-brand\" data-reactid=\"56\" href=\"/\"><img alt=\"edusanjal\" class=\"d-inline-block align-top\" data-reactid=\"57\" src=\"/static/img/edusanjal.svg\" width=\"56\"/><span class=\"ml-2\" data-reactid=\"58\">edusanjal</span></a><div class=\"collapse navbar-collapse\" data-reactid=\"59\" id=\"navbarSupportedContent\"><ul class=\"navbar-nav mr-auto\" data-reactid=\"60\"><li class=\"navbar-nav mr-auto\" data-reactid=\"61\" data-target=\".navbar-collapse.show\" data-toggle=\"collapse\"></li><li class=\"navbar-nav mr-auto\" data-reactid=\"62\" data-target=\".navbar-collapse.show\" data-toggle=\"collapse\"><a class=\"nav-link\" data-reactid=\"63\" href=\"/college/\">Colleges</a></li><li class=\"navbar-nav mr-auto\" data-reactid=\"64\" data-target=\".navbar-collapse.show\" data-toggle=\"collapse\"><a class=\"nav-link\" data-reactid=\"65\" href=\"/school/\">Schools</a></li><li class=\"navbar-nav mr-auto\" data-reactid=\"66\" data-target=\".navbar-collapse.show\" data-toggle=\"collapse\"><a class=\"nav-link\" data-reactid=\"67\" href=\"/course/\">Courses</a></li><li class=\"navbar-nav mr-auto\" data-reactid=\"68\" data-target=\".navbar-collapse.show\" data-toggle=\"collapse\"><a class=\"nav-link\" data-reactid=\"69\" href=\"/university/\">Universities</a></li><li class=\"navbar-nav mr-auto\" data-reactid=\"70\" data-target=\".navbar-collapse.show\" data-toggle=\"collapse\"><a class=\"nav-link\" data-reactid=\"71\" href=\"/admission/\">Admissions</a></li><li class=\"navbar-nav mr-auto\" data-reactid=\"72\" data-target=\".navbar-collapse.show\" data-toggle=\"collapse\"><a class=\"nav-link\" data-reactid=\"73\" href=\"/career/\">Careers</a></li><li class=\"navbar-nav mr-auto\" data-reactid=\"74\" data-target=\".navbar-collapse.show\" data-toggle=\"collapse\"><a class=\"nav-link\" data-reactid=\"75\" href=\"/event/\">Events</a></li><li class=\"navbar-nav mr-auto\" data-reactid=\"76\" data-target=\".navbar-collapse.show\" data-toggle=\"collapse\"><a class=\"nav-link\" data-reactid=\"77\" href=\"/news/\">News</a></li><li class=\"navbar-nav mr-auto\" data-reactid=\"78\" data-target=\".navbar-collapse.show\" data-toggle=\"collapse\"><a class=\"nav-link\" data-reactid=\"79\" href=\"/blog/\">Blogs</a></li><li class=\"navbar-nav mr-auto\" data-reactid=\"80\" data-target=\".navbar-collapse.show\" data-toggle=\"collapse\"><a class=\"nav-link\" data-reactid=\"81\" href=\"/samachar/\">समाचार</a></li><li class=\"navbar-nav mr-auto\" data-reactid=\"82\" data-target=\".navbar-collapse.show\" data-toggle=\"collapse\"><a class=\"nav-link\" data-reactid=\"83\" href=\"/scholarship/\">Scholarships</a></li><li class=\"navbar-nav mr-auto\" data-reactid=\"84\" data-target=\".navbar-collapse.show\" data-toggle=\"collapse\"><a class=\"nav-link\" data-reactid=\"85\" href=\"/vacancy/\">Vacancies</a></li><li class=\"navbar-nav mr-auto\" data-reactid=\"86\" data-target=\".navbar-collapse.show\" data-toggle=\"collapse\"><a class=\"nav-link\" data-reactid=\"87\" href=\"/ranking/\">Ranks</a></li><li class=\"navbar-nav mr-auto\" data-reactid=\"88\" data-target=\".navbar-collapse.show\" data-toggle=\"collapse\"><a class=\"nav-link\" data-reactid=\"89\" href=\"/council/\">Council</a></li></ul><div class=\"nav-item\" data-reactid=\"90\"><ul class=\"navbar-nav mr-auto\" data-reactid=\"91\"><li class=\"nav-item\" data-reactid=\"92\" data-target=\".navbar-collapse.show\" data-toggle=\"collapse\"><a class=\"nav-link\" data-reactid=\"93\" href=\"/signup/\">Sign Up</a></li><li class=\"nav-item\" data-reactid=\"94\" data-target=\".navbar-collapse.show\" data-toggle=\"collapse\"><a class=\"nav-link\" data-reactid=\"95\" href=\"/login/\">Login</a></li></ul></div></div></nav></header></div><div data-reactid=\"96\"></div><!-- react-empty: 97 --><!-- react-empty: 98 --><!-- react-empty: 99 --><!-- react-empty: 100 --><!-- react-empty: 101 --><!-- react-empty: 102 --><!-- react-empty: 103 --><!-- react-empty: 104 --><!-- react-empty: 105 --><!-- react-empty: 106 --><!-- react-empty: 107 --><!-- react-empty: 108 --><!-- react-empty: 109 --><!-- react-empty: 110 --><!-- react-empty: 111 --><!-- react-empty: 112 --><!-- react-empty: 113 --><!-- react-empty: 114 --><!-- react-empty: 115 --><!-- react-empty: 116 --><!-- react-empty: 117 --><!-- react-empty: 118 --><!-- react-empty: 119 --><!-- react-empty: 120 --><!-- react-empty: 121 --><!-- react-empty: 122 --><!-- react-empty: 123 --><div class=\"container-fluid\" data-reactid=\"124\" itemscope=\"\" itemtype=\"http://schema.org/NewsArticle\"><!-- react-empty: 125 --><!-- react-empty: 126 --><!-- react-empty: 127 --><div class=\"content-left\" data-reactid=\"128\"><div class=\"mb-4\" data-reactid=\"129\"><div class=\"commercial-split\" data-reactid=\"130\"></div><div class=\"clearfix\" data-reactid=\"131\"></div></div><div class=\"container-fluid mh\" data-reactid=\"132\"><div class=\"row\" data-reactid=\"133\"><div class=\"col-lg-12\" data-reactid=\"134\"><div class=\"row\" data-reactid=\"135\"><div class=\"col-sm-11\" data-reactid=\"136\"><div class=\"row\" data-reactid=\"137\"><div class=\"col-sm-12 col.md-12\" data-reactid=\"138\"><div data-reactid=\"139\"><h1 class=\"d-inline-block\" data-reactid=\"140\"><!-- react-text: 141 -->Salary of Civil Servants (Government Officials) in Nepal<!-- /react-text --><!-- react-text: 142 --> <!-- /react-text --><sup data-reactid=\"143\"></sup></h1></div></div></div><div data-reactid=\"144\"><div data-reactid=\"145\"><p class=\"mb-2\" data-reactid=\"146\"><i class=\"icon-calendar\" data-reactid=\"147\"></i><!-- react-text: 148 --> <!-- /react-text --><!-- react-text: 149 -->2019-08-05<!-- /react-text --></p></div><div data-reactid=\"150\"><p class=\"mb-2\" data-reactid=\"151\"><i class=\"icon-user\" data-reactid=\"152\"></i><!-- react-text: 153 --> <!-- /react-text --><!-- react-text: 154 -->Satchit Ghimire<!-- /react-text --></p></div><div class=\"social-buttons\" data-reactid=\"155\"><h5 data-reactid=\"156\">Share this:</h5><a aria-label=\"\" class=\"resp-sharing-button__link m-1\" data-reactid=\"157\" href=\"https://facebook.com/sharer/sharer.php?u=http://edusanjal.com/blog/salary-civil-servants-nepal/\" target=\"_blank\"><button class=\"btn btn-facebook btn-sm mb-1\" data-reactid=\"158\" title=\"Facebook\"><span aria-hidden=\"true\" class=\"icon-facebook fa-1x\" data-reactid=\"159\"></span></button></a><a aria-label=\"\" class=\"resp-sharing-button__link m-1\" data-reactid=\"160\" href=\"https://twitter.com/intent/tweet/?text=Salary of Civil Servants (Government Officials) in Nepal;url=http://edusanjal.com/blog/salary-civil-servants-nepal/\" target=\"_blank\"><button class=\"btn btn-twitter btn-sm mb-1\" data-reactid=\"161\" title=\"Twitter\"><span aria-hidden=\"true\" class=\"icon-twitter fa-1x\" data-reactid=\"162\"></span></button></a><a aria-label=\"\" class=\"resp-sharing-button__link m-1\" data-reactid=\"163\" href=\"https://plus.google.com/share?url=http://edusanjal.com/blog/salary-civil-servants-nepal/\" target=\"_blank\"><button class=\"btn btn-google btn-sm mb-1\" data-reactid=\"164\" title=\"Google\"><span aria-hidden=\"true\" class=\"icon-google fa-1x\" data-reactid=\"165\"></span></button></a></div></div></div><div class=\"col-sm-1\" data-reactid=\"166\"><div data-reactid=\"167\"></div></div></div><hr class=\"mt-0\" data-reactid=\"168\"/><div class=\"row\" data-reactid=\"169\"><div class=\"col-sm-12\" data-reactid=\"170\"><div class=\"detail-view\" data-reactid=\"171\"><div class=\"row\" data-reactid=\"172\"><div class=\"col-sm-12 col-md-12\" data-reactid=\"173\"><div data-reactid=\"174\"><span data-reactid=\"175\" id=\"description\"></span><div data-reactid=\"176\"><p>Government job is considered as one of the sought after jobs here in Nepal. Each year thousands of youths compete in a rigorous examination every year conducted by Lok Sewa Aayog to get Government Jobs. So, you must be curious to know how much the government officials of Nepal earn. This article gives you the complete knowledge about the salary and benefits of Government officials of Nepal.</p>\n",
       "<figure><img data-image=\"salary-of-civil-servants.jpg\" src=\"https://sgp1.digitaloceanspaces.com/edsmed/uploads/salary-of-civil-servants.jpg\"/></figure>\n",
       "<p><br/></p>\n",
       "<p>In the budget for the fiscal year 2076/77 unveiled on the parliament by Finance Minister Dr. Yuba Raj Khatiwada, Government has decided to hike the salary of non-gazetted government officials (Nayab Subba, Kharidar and Office Assistant) by<strong> 20 percent</strong> and that of gazetted officials (Section Officer, Deputy Secretary, Joint Secretary and Chief Secretary) by <strong>18 percent. </strong></p>\n",
       "<p>The increment was made to increase the morale of the civil servants and lead to effective service delivery to the general public and the nation.<br/></p>\n",
       "<p>Following the pay hike, the Ministry of Finance released the latest salary sheets for the beneficiaries, which will be effective from <strong>Sharwan 2076. <span id=\"redactor-inline-breakpoint\"></span></strong> </p>\n",
       "<table>\n",
       "<tbody><tr>\n",
       "<td><strong>S.N</strong></td>\n",
       "<td><strong>Position/ Level </strong></td>\n",
       "<td><strong>Starting Salary </strong></td>\n",
       "<td><strong>No of Grade</strong></td>\n",
       "<td><strong>Rate of Grade</strong></td>\n",
       "<td><strong>Total</strong></td>\n",
       "</tr>\n",
       "<tr>\n",
       "<td>1</td>\n",
       "<td>Chief Secretary </td>\n",
       "<td>Rs. 65,140</td>\n",
       "<td>2</td>\n",
       "<td>2171</td>\n",
       "<td>Rs.69482</td>\n",
       "</tr>\n",
       "<tr>\n",
       "<td>2</td>\n",
       "<td>Secretary  </td>\n",
       "<td>Rs. 60,680</td>\n",
       "<td>2</td>\n",
       "<td>2023</td>\n",
       "<td>Rs.64726</td>\n",
       "</tr>\n",
       "<tr>\n",
       "<td>3</td>\n",
       "<td>Joint Secretary</td>\n",
       "<td>Rs.47,380</td>\n",
       "<td>7</td>\n",
       "<td>1579</td>\n",
       "<td>Rs. 58,433</td>\n",
       "</tr>\n",
       "<tr>\n",
       "<td>4</td>\n",
       "<td>Deputy Secretary</td>\n",
       "<td>Rs. 40,380</td>\n",
       "<td>8</td>\n",
       "<td>1346</td>\n",
       "<td>Rs. 51,148</td>\n",
       "</tr>\n",
       "<tr>\n",
       "<td>5</td>\n",
       "<td>Section Officer</td>\n",
       "<td>Rs. 35,990</td>\n",
       "<td>8</td>\n",
       "<td>1200</td>\n",
       "<td>Rs. 45,590</td>\n",
       "</tr>\n",
       "<tr>\n",
       "<td>6</td>\n",
       "<td>Nayab Subba</td>\n",
       "<td>Rs. 28,200</td>\n",
       "<td>10</td>\n",
       "<td>940</td>\n",
       "<td>Rs. 37,600</td>\n",
       "</tr>\n",
       "<tr>\n",
       "<td>7</td>\n",
       "<td>Kharidar</td>\n",
       "<td>Rs.26,610</td>\n",
       "<td>10</td>\n",
       "<td>887</td>\n",
       "<td>Rs. 35,480</td>\n",
       "</tr>\n",
       "</tbody></table>\n",
       "<p>The figure below gives information regarding the latest salary of Government Officials of Nepal.<br/></p>\n",
       "<p><img data-image=\"Latest Salary of Government Officials of Nepal 1.jpg\" src=\"https://sgp1.digitaloceanspaces.com/edsmed/uploads/Latest%20Salary%20of%20Government%20Officials%20of%20Nepal%201.jpg\"/><br/><br/></p>\n",
       "<figure><img data-image=\"Latest Salary of Government Officials of Nepal 2.jpg\" src=\"https://sgp1.digitaloceanspaces.com/edsmed/uploads/Latest%20Salary%20of%20Government%20Officials%20of%20Nepal%202.jpg\"/><br/></figure>\n",
       "<figure><img data-image=\"Latest Salary of Government Officials of Nepal 3.jpg\" src=\"https://sgp1.digitaloceanspaces.com/edsmed/uploads/Latest%20Salary%20of%20Government%20Officials%20of%20Nepal%203.jpg\"/></figure>\n",
       "<figure><img data-image=\"Latest Salary of Government Officials of Nepal 4.jpg\" src=\"https://sgp1.digitaloceanspaces.com/edsmed/uploads/Latest%20Salary%20of%20Government%20Officials%20of%20Nepal%204.jpg\"/></figure>\n",
       "<figure><img data-image=\"Latest Salary of Government Officials of Nepal 5.jpg\" src=\"https://sgp1.digitaloceanspaces.com/edsmed/uploads/Latest%20Salary%20of%20Government%20Officials%20of%20Nepal%205.jpg\"/></figure>\n",
       "<figure><img data-image=\"Latest Salary of Government Officials of Nepal 6.jpg\" src=\"https://sgp1.digitaloceanspaces.com/edsmed/uploads/Latest%20Salary%20of%20Government%20Officials%20of%20Nepal%206.jpg\"/></figure>\n",
       "<figure><img data-image=\"Latest Salary of Government Officials of Nepal 7.jpg\" src=\"https://sgp1.digitaloceanspaces.com/edsmed/uploads/Latest%20Salary%20of%20Government%20Officials%20of%20Nepal%207.jpg\"/></figure>\n",
       "<figure><img data-image=\"Latest Salary of Government Officials of Nepal 8.jpg\" src=\"https://sgp1.digitaloceanspaces.com/edsmed/uploads/Latest%20Salary%20of%20Government%20Officials%20of%20Nepal%208.jpg\"/></figure>\n",
       "<figure><img data-image=\"Latest Salary of Government Officials of Nepal 9.jpg\" src=\"https://sgp1.digitaloceanspaces.com/edsmed/uploads/Latest%20Salary%20of%20Government%20Officials%20of%20Nepal%209.jpg\"/></figure>\n",
       "<figure><img data-image=\"Latest Salary of Government Officials of Nepal 10.jpg\" src=\"https://sgp1.digitaloceanspaces.com/edsmed/uploads/Latest%20Salary%20of%20Government%20Officials%20of%20Nepal%2010.jpg\"/></figure></div></div></div></div></div></div></div></div></div></div><div class=\"mb-4\" data-reactid=\"177\"><div class=\"commercial-split mid-commercial-split\" data-reactid=\"178\"></div><div class=\"commercial d-none\" data-reactid=\"179\"><div class=\"mid-split\" data-reactid=\"180\"></div></div><div class=\"clearfix\" data-reactid=\"181\"></div></div><br data-reactid=\"182\"/><div data-reactid=\"183\" style=\"margin-top:5px;margin-bottom:5px;\"><ins class=\"adsbygoogle\" data-ad-client=\"ca-pub-4804173506819153\" data-ad-format=\"autorelaxed\" data-ad-slot=\"4549346969\" data-full-width-responsive=\"true\" data-reactid=\"184\" style=\"display:block;\"></ins></div></div><div class=\"content-right c-bg\" data-reactid=\"185\"><div class=\"mb-4\" data-reactid=\"186\"><div class=\"commercial d-none\" data-reactid=\"187\"><div class=\"top-fixed\" data-reactid=\"188\"></div></div><div class=\"clearfix\" data-reactid=\"189\"></div></div><div class=\"mb-4\" data-reactid=\"190\"><div class=\"commercial d-none\" data-reactid=\"191\"><div class=\"right-sidebar-top\" data-reactid=\"192\"></div></div><div class=\"clearfix\" data-reactid=\"193\"></div></div><div class=\"mb-4\" data-reactid=\"194\"><div class=\"commercial d-none\" data-reactid=\"195\"><div class=\"right-sidebar-mid\" data-reactid=\"196\"></div></div><div class=\"clearfix\" data-reactid=\"197\"></div></div><div class=\"mb-4\" data-reactid=\"198\"><div class=\"commercial d-none\" data-reactid=\"199\"><div class=\"right-sidebar-bottom\" data-reactid=\"200\"></div></div><div class=\"clearfix\" data-reactid=\"201\"></div></div></div><div class=\"clearfix\" data-reactid=\"202\"></div></div><!-- react-empty: 203 --><!-- react-empty: 204 --><!-- react-empty: 205 --><!-- react-empty: 206 --><!-- react-empty: 207 --><!-- react-empty: 208 --><!-- react-empty: 209 --><!-- react-empty: 210 --><!-- react-empty: 211 --><!-- react-empty: 212 --><!-- react-empty: 213 --><!-- react-empty: 214 --><!-- react-empty: 215 --><!-- react-empty: 216 --><!-- react-empty: 217 --><!-- react-empty: 218 --><!-- react-empty: 219 --><!-- react-empty: 220 --><!-- react-empty: 221 --><!-- react-empty: 222 --><!-- react-empty: 223 --><!-- react-empty: 224 --><!-- react-empty: 225 --><!-- react-empty: 226 --><!-- react-empty: 227 --><!-- react-empty: 228 --><!-- react-empty: 229 --><!-- react-empty: 230 --><!-- react-empty: 231 --><!-- react-empty: 232 --><div data-reactid=\"233\"></div><div data-reactid=\"234\"></div><footer class=\"edusanjal-footer\" data-reactid=\"235\"></footer></div></div>\n",
       "<script>\n",
       "    window.__PRELOADED_STATE__ = {\"colleges\":{\"college_list\":{},\"college_detail\":{}},\"schools\":{\"school_list\":{},\"school_detail\":{}},\"councils\":{\"council_list\":{},\"council_detail\":{}},\"college_news_feed\":{\"college_news_feed_detail\":{}},\"courses\":{\"course_list\":{},\"course_detail\":{}},\"universities\":{\"university_list\":{},\"university_detail\":{}},\"admissions\":{\"admission_list\":{},\"admission_detail\":{}},\"careers\":{\"career_list\":{},\"career_detail\":{}},\"events\":{\"event_list\":{},\"event_detail\":{}},\"news\":{\"news_list\":{},\"news_detail\":{}},\"blog\":{\"blog_list\":{},\"blog_detail\":{\"core\":{\"salary-civil-servants-nepal\":{\"id\":29,\"is_following\":null,\"url\":\"/blog/salary-civil-servants-nepal/\",\"author\":\"Satchit Ghimire\",\"category\":[{\"id\":257,\"slug\":\"others\",\"title\":\"Others\"}],\"created_on\":\"2019-08-05\",\"previous_db_id\":null,\"title\":\"Salary of Civil Servants (Government Officials) in Nepal\",\"slug\":\"salary-civil-servants-nepal\",\"description\":\"\\u003cp>Government job is considered as one of the sought after jobs here in Nepal. Each year thousands of youths compete&nbsp;in a rigorous examination every year conducted by Lok Sewa Aayog to get Government Jobs. So, you must be curious to know how much the government officials of Nepal earn. This article gives you the complete knowledge about the salary and benefits of Government officials of Nepal.\\u003c/p>\\r\\n\\u003cfigure>\\u003cimg src=\\\"https://sgp1.digitaloceanspaces.com/edsmed/uploads/salary-of-civil-servants.jpg\\\" data-image=\\\"salary-of-civil-servants.jpg\\\">\\u003c/figure>\\r\\n\\u003cp>\\u003cbr>\\u003c/p>\\r\\n\\u003cp>In the budget for the fiscal year 2076/77&nbsp;unveiled on the parliament by Finance Minister Dr.&nbsp;Yuba Raj Khatiwada, Government has decided to hike the&nbsp;salary of non-gazetted government officials (Nayab Subba, Kharidar and Office Assistant) by\\u003cstrong> 20 percent\\u003c/strong> and that of gazetted officials (Section Officer, Deputy Secretary, Joint Secretary and Chief Secretary) by \\u003cstrong>18 percent.&nbsp;\\u003c/strong>\\u003c/p>\\r\\n\\u003cp>The increment was made to increase the&nbsp;morale of the civil servants and lead to effective service delivery to the general public and the nation.\\u003cbr>\\u003c/p>\\r\\n\\u003cp>Following the pay hike, the Ministry of Finance released the latest salary sheets for the beneficiaries, which will be effective from \\u003cstrong>Sharwan 2076.&nbsp;\\u003cspan id=\\\"redactor-inline-breakpoint\\\">\\u003c/span>\\u003c/strong>&nbsp;\\u003c/p>\\r\\n\\u003ctable>\\r\\n\\t\\r\\n\\t\\r\\n\\t\\r\\n\\t\\r\\n\\t\\r\\n\\t\\u003ctbody>\\u003ctr>\\r\\n\\t\\t\\u003ctd>\\u003cstrong>S.N\\u003c/strong>\\u003c/td>\\r\\n\\t\\t\\u003ctd>\\u003cstrong>Position/ Level \\u003c/strong>\\u003c/td>\\r\\n\\t\\t\\u003ctd>\\u003cstrong>Starting Salary \\u003c/strong>\\u003c/td>\\r\\n\\t\\t\\u003ctd>\\u003cstrong>No of Grade\\u003c/strong>\\u003c/td>\\r\\n\\t\\t\\u003ctd>\\u003cstrong>Rate of Grade\\u003c/strong>\\u003c/td>\\r\\n\\t\\t\\u003ctd>\\u003cstrong>Total\\u003c/strong>\\u003c/td>\\r\\n\\t\\u003c/tr>\\r\\n\\t\\u003ctr>\\r\\n\\t\\t\\u003ctd>1\\u003c/td>\\r\\n\\t\\t\\u003ctd>Chief Secretary \\u003c/td>\\r\\n\\t\\t\\u003ctd>Rs. 65,140\\u003c/td>\\r\\n\\t\\t\\u003ctd>2\\u003c/td>\\r\\n\\t\\t\\u003ctd>2171\\u003c/td>\\r\\n\\t\\t\\u003ctd>Rs.69482\\u003c/td>\\r\\n\\t\\u003c/tr>\\r\\n\\t\\u003ctr>\\r\\n\\t\\t\\u003ctd>2\\u003c/td>\\r\\n\\t\\t\\u003ctd>Secretary&nbsp; \\u003c/td>\\r\\n\\t\\t\\u003ctd>Rs. 60,680\\u003c/td>\\r\\n\\t\\t\\u003ctd>2\\u003c/td>\\r\\n\\t\\t\\u003ctd>2023\\u003c/td>\\r\\n\\t\\t\\u003ctd>Rs.64726\\u003c/td>\\r\\n\\t\\u003c/tr>\\r\\n\\t\\u003ctr>\\r\\n\\t\\t\\u003ctd>3\\u003c/td>\\r\\n\\t\\t\\u003ctd>Joint Secretary\\u003c/td>\\r\\n\\t\\t\\u003ctd>Rs.47,380\\u003c/td>\\r\\n\\t\\t\\u003ctd>7\\u003c/td>\\r\\n\\t\\t\\u003ctd>1579\\u003c/td>\\r\\n\\t\\t\\u003ctd>Rs. 58,433\\u003c/td>\\r\\n\\t\\u003c/tr>\\r\\n\\t\\u003ctr>\\r\\n\\t\\t\\u003ctd>4\\u003c/td>\\r\\n\\t\\t\\u003ctd>Deputy Secretary\\u003c/td>\\r\\n\\t\\t\\u003ctd>Rs. 40,380\\u003c/td>\\r\\n\\t\\t\\u003ctd>8\\u003c/td>\\r\\n\\t\\t\\u003ctd>1346\\u003c/td>\\r\\n\\t\\t\\u003ctd>Rs. 51,148\\u003c/td>\\r\\n\\t\\u003c/tr>\\r\\n\\t\\u003ctr>\\r\\n\\t\\t\\u003ctd>5\\u003c/td>\\r\\n\\t\\t\\u003ctd>Section Officer\\u003c/td>\\r\\n\\t\\t\\u003ctd>Rs. 35,990\\u003c/td>\\r\\n\\t\\t\\u003ctd>8\\u003c/td>\\r\\n\\t\\t\\u003ctd>1200\\u003c/td>\\r\\n\\t\\t\\u003ctd>Rs. 45,590\\u003c/td>\\r\\n\\t\\u003c/tr>\\r\\n\\t\\u003ctr>\\r\\n\\t\\t\\u003ctd>6\\u003c/td>\\r\\n\\t\\t\\u003ctd>Nayab Subba\\u003c/td>\\r\\n\\t\\t\\u003ctd>Rs. 28,200\\u003c/td>\\r\\n\\t\\t\\u003ctd>10\\u003c/td>\\r\\n\\t\\t\\u003ctd>940\\u003c/td>\\r\\n\\t\\t\\u003ctd>Rs. 37,600\\u003c/td>\\r\\n\\t\\u003c/tr>\\r\\n\\t\\u003ctr>\\r\\n\\t\\t\\u003ctd>7\\u003c/td>\\r\\n\\t\\t\\u003ctd>Kharidar\\u003c/td>\\r\\n\\t\\t\\u003ctd>Rs.26,610\\u003c/td>\\r\\n\\t\\t\\u003ctd>10\\u003c/td>\\r\\n\\t\\t\\u003ctd>887\\u003c/td>\\r\\n\\t\\t\\u003ctd>Rs. 35,480\\u003c/td>\\r\\n\\t\\u003c/tr>\\r\\n\\u003c/tbody>\\u003c/table>\\r\\n\\u003cp>The figure below gives information regarding the latest salary of Government Officials of Nepal.\\u003cbr>\\u003c/p>\\r\\n\\u003cp>\\u003cimg src=\\\"https://sgp1.digitaloceanspaces.com/edsmed/uploads/Latest%20Salary%20of%20Government%20Officials%20of%20Nepal%201.jpg\\\" data-image=\\\"Latest Salary of Government Officials of Nepal 1.jpg\\\">\\u003cbr>\\u003cbr>\\u003c/p>\\r\\n\\u003cfigure>\\u003cimg src=\\\"https://sgp1.digitaloceanspaces.com/edsmed/uploads/Latest%20Salary%20of%20Government%20Officials%20of%20Nepal%202.jpg\\\" data-image=\\\"Latest Salary of Government Officials of Nepal 2.jpg\\\">\\u003cbr>\\u003c/figure>\\r\\n\\u003cfigure>\\u003cimg src=\\\"https://sgp1.digitaloceanspaces.com/edsmed/uploads/Latest%20Salary%20of%20Government%20Officials%20of%20Nepal%203.jpg\\\" data-image=\\\"Latest Salary of Government Officials of Nepal 3.jpg\\\">\\u003c/figure>\\r\\n\\u003cfigure>\\u003cimg src=\\\"https://sgp1.digitaloceanspaces.com/edsmed/uploads/Latest%20Salary%20of%20Government%20Officials%20of%20Nepal%204.jpg\\\" data-image=\\\"Latest Salary of Government Officials of Nepal 4.jpg\\\">\\u003c/figure>\\r\\n\\u003cfigure>\\u003cimg src=\\\"https://sgp1.digitaloceanspaces.com/edsmed/uploads/Latest%20Salary%20of%20Government%20Officials%20of%20Nepal%205.jpg\\\" data-image=\\\"Latest Salary of Government Officials of Nepal 5.jpg\\\">\\u003c/figure>\\r\\n\\u003cfigure>\\u003cimg src=\\\"https://sgp1.digitaloceanspaces.com/edsmed/uploads/Latest%20Salary%20of%20Government%20Officials%20of%20Nepal%206.jpg\\\" data-image=\\\"Latest Salary of Government Officials of Nepal 6.jpg\\\">\\u003c/figure>\\r\\n\\u003cfigure>\\u003cimg src=\\\"https://sgp1.digitaloceanspaces.com/edsmed/uploads/Latest%20Salary%20of%20Government%20Officials%20of%20Nepal%207.jpg\\\" data-image=\\\"Latest Salary of Government Officials of Nepal 7.jpg\\\">\\u003c/figure>\\r\\n\\u003cfigure>\\u003cimg src=\\\"https://sgp1.digitaloceanspaces.com/edsmed/uploads/Latest%20Salary%20of%20Government%20Officials%20of%20Nepal%208.jpg\\\" data-image=\\\"Latest Salary of Government Officials of Nepal 8.jpg\\\">\\u003c/figure>\\r\\n\\u003cfigure>\\u003cimg src=\\\"https://sgp1.digitaloceanspaces.com/edsmed/uploads/Latest%20Salary%20of%20Government%20Officials%20of%20Nepal%209.jpg\\\" data-image=\\\"Latest Salary of Government Officials of Nepal 9.jpg\\\">\\u003c/figure>\\r\\n\\u003cfigure>\\u003cimg src=\\\"https://sgp1.digitaloceanspaces.com/edsmed/uploads/Latest%20Salary%20of%20Government%20Officials%20of%20Nepal%2010.jpg\\\" data-image=\\\"Latest Salary of Government Officials of Nepal 10.jpg\\\">\\u003c/figure>\",\"last_updated_on\":\"2020-11-27T01:58:46.444755Z\",\"has_published\":true,\"is_pinned\":false,\"expiry_date\":null,\"college\":[],\"council\":[],\"university\":[]}}}},\"news_nepal\":{\"news_nepal_list\":{},\"news_nepal_detail\":{}},\"scholarships\":{\"scholarship_list\":{},\"scholarship_detail\":{}},\"vacancies\":{\"vacancy_list\":{},\"vacancy_detail\":{}},\"ranks\":{\"rank_list\":{},\"rank_detail\":{}},\"pages\":{\"page_list\":[],\"page_detail\":{}},\"faculties\":{\"faculty_courses\":{}},\"categories\":{\"college\":{\"college_categories\":{},\"districts\":{},\"course_types\":{}},\"course\":{\"faculties\":{},\"levels\":{}},\"university\":{\"university_categories\":{},\"faculties\":{}}},\"feed\":{},\"search\":{},\"latest\":{},\"fetch_state\":{\"is_fetching\":false},\"followed_topic\":{},\"advertisements\":{},\"roadblock\":{\"content\":[],\"show\":false},\"appliedAdmission\":false,\"routing\":{\"locationBeforeTransitions\":null}}\n",
       "    </script>\n",
       "<link href=\"https://cdn1.edusanjal.com/es/edu_fonts/style.min.css\" media=\"none\" onload=\"if(media!='all')media='all'\" rel=\"stylesheet\"/>\n",
       "<script>\n",
       "    window.user_id = null;\n",
       "    window.is_college_staff = ''\n",
       "    window.data = {\"core\": {\"id\": 29, \"is_following\": null, \"url\": \"/blog/salary-civil-servants-nepal/\", \"author\": \"Satchit Ghimire\", \"category\": [{\"id\": 257, \"slug\": \"others\", \"title\": \"Others\"}], \"created_on\": \"2019-08-05\", \"previous_db_id\": null, \"title\": \"Salary of Civil Servants (Government Officials) in Nepal\", \"slug\": \"salary-civil-servants-nepal\", \"description\": \"<p>Government job is considered as one of the sought after jobs here in Nepal. Each year thousands of youths compete&nbsp;in a rigorous examination every year conducted by Lok Sewa Aayog to get Government Jobs. So, you must be curious to know how much the government officials of Nepal earn. This article gives you the complete knowledge about the salary and benefits of Government officials of Nepal.</p>\\r\\n<figure><img src=\\\"https://sgp1.digitaloceanspaces.com/edsmed/uploads/salary-of-civil-servants.jpg\\\" data-image=\\\"salary-of-civil-servants.jpg\\\"></figure>\\r\\n<p><br></p>\\r\\n<p>In the budget for the fiscal year 2076/77&nbsp;unveiled on the parliament by Finance Minister Dr.&nbsp;Yuba Raj Khatiwada, Government has decided to hike the&nbsp;salary of non-gazetted government officials (Nayab Subba, Kharidar and Office Assistant) by<strong> 20 percent</strong> and that of gazetted officials (Section Officer, Deputy Secretary, Joint Secretary and Chief Secretary) by <strong>18 percent.&nbsp;</strong></p>\\r\\n<p>The increment was made to increase the&nbsp;morale of the civil servants and lead to effective service delivery to the general public and the nation.<br></p>\\r\\n<p>Following the pay hike, the Ministry of Finance released the latest salary sheets for the beneficiaries, which will be effective from <strong>Sharwan 2076.&nbsp;<span id=\\\"redactor-inline-breakpoint\\\"></span></strong>&nbsp;</p>\\r\\n<table>\\r\\n\\t\\r\\n\\t\\r\\n\\t\\r\\n\\t\\r\\n\\t\\r\\n\\t<tbody><tr>\\r\\n\\t\\t<td><strong>S.N</strong></td>\\r\\n\\t\\t<td><strong>Position/ Level </strong></td>\\r\\n\\t\\t<td><strong>Starting Salary </strong></td>\\r\\n\\t\\t<td><strong>No of Grade</strong></td>\\r\\n\\t\\t<td><strong>Rate of Grade</strong></td>\\r\\n\\t\\t<td><strong>Total</strong></td>\\r\\n\\t</tr>\\r\\n\\t<tr>\\r\\n\\t\\t<td>1</td>\\r\\n\\t\\t<td>Chief Secretary </td>\\r\\n\\t\\t<td>Rs. 65,140</td>\\r\\n\\t\\t<td>2</td>\\r\\n\\t\\t<td>2171</td>\\r\\n\\t\\t<td>Rs.69482</td>\\r\\n\\t</tr>\\r\\n\\t<tr>\\r\\n\\t\\t<td>2</td>\\r\\n\\t\\t<td>Secretary&nbsp; </td>\\r\\n\\t\\t<td>Rs. 60,680</td>\\r\\n\\t\\t<td>2</td>\\r\\n\\t\\t<td>2023</td>\\r\\n\\t\\t<td>Rs.64726</td>\\r\\n\\t</tr>\\r\\n\\t<tr>\\r\\n\\t\\t<td>3</td>\\r\\n\\t\\t<td>Joint Secretary</td>\\r\\n\\t\\t<td>Rs.47,380</td>\\r\\n\\t\\t<td>7</td>\\r\\n\\t\\t<td>1579</td>\\r\\n\\t\\t<td>Rs. 58,433</td>\\r\\n\\t</tr>\\r\\n\\t<tr>\\r\\n\\t\\t<td>4</td>\\r\\n\\t\\t<td>Deputy Secretary</td>\\r\\n\\t\\t<td>Rs. 40,380</td>\\r\\n\\t\\t<td>8</td>\\r\\n\\t\\t<td>1346</td>\\r\\n\\t\\t<td>Rs. 51,148</td>\\r\\n\\t</tr>\\r\\n\\t<tr>\\r\\n\\t\\t<td>5</td>\\r\\n\\t\\t<td>Section Officer</td>\\r\\n\\t\\t<td>Rs. 35,990</td>\\r\\n\\t\\t<td>8</td>\\r\\n\\t\\t<td>1200</td>\\r\\n\\t\\t<td>Rs. 45,590</td>\\r\\n\\t</tr>\\r\\n\\t<tr>\\r\\n\\t\\t<td>6</td>\\r\\n\\t\\t<td>Nayab Subba</td>\\r\\n\\t\\t<td>Rs. 28,200</td>\\r\\n\\t\\t<td>10</td>\\r\\n\\t\\t<td>940</td>\\r\\n\\t\\t<td>Rs. 37,600</td>\\r\\n\\t</tr>\\r\\n\\t<tr>\\r\\n\\t\\t<td>7</td>\\r\\n\\t\\t<td>Kharidar</td>\\r\\n\\t\\t<td>Rs.26,610</td>\\r\\n\\t\\t<td>10</td>\\r\\n\\t\\t<td>887</td>\\r\\n\\t\\t<td>Rs. 35,480</td>\\r\\n\\t</tr>\\r\\n</tbody></table>\\r\\n<p>The figure below gives information regarding the latest salary of Government Officials of Nepal.<br></p>\\r\\n<p><img src=\\\"https://sgp1.digitaloceanspaces.com/edsmed/uploads/Latest%20Salary%20of%20Government%20Officials%20of%20Nepal%201.jpg\\\" data-image=\\\"Latest Salary of Government Officials of Nepal 1.jpg\\\"><br><br></p>\\r\\n<figure><img src=\\\"https://sgp1.digitaloceanspaces.com/edsmed/uploads/Latest%20Salary%20of%20Government%20Officials%20of%20Nepal%202.jpg\\\" data-image=\\\"Latest Salary of Government Officials of Nepal 2.jpg\\\"><br></figure>\\r\\n<figure><img src=\\\"https://sgp1.digitaloceanspaces.com/edsmed/uploads/Latest%20Salary%20of%20Government%20Officials%20of%20Nepal%203.jpg\\\" data-image=\\\"Latest Salary of Government Officials of Nepal 3.jpg\\\"></figure>\\r\\n<figure><img src=\\\"https://sgp1.digitaloceanspaces.com/edsmed/uploads/Latest%20Salary%20of%20Government%20Officials%20of%20Nepal%204.jpg\\\" data-image=\\\"Latest Salary of Government Officials of Nepal 4.jpg\\\"></figure>\\r\\n<figure><img src=\\\"https://sgp1.digitaloceanspaces.com/edsmed/uploads/Latest%20Salary%20of%20Government%20Officials%20of%20Nepal%205.jpg\\\" data-image=\\\"Latest Salary of Government Officials of Nepal 5.jpg\\\"></figure>\\r\\n<figure><img src=\\\"https://sgp1.digitaloceanspaces.com/edsmed/uploads/Latest%20Salary%20of%20Government%20Officials%20of%20Nepal%206.jpg\\\" data-image=\\\"Latest Salary of Government Officials of Nepal 6.jpg\\\"></figure>\\r\\n<figure><img src=\\\"https://sgp1.digitaloceanspaces.com/edsmed/uploads/Latest%20Salary%20of%20Government%20Officials%20of%20Nepal%207.jpg\\\" data-image=\\\"Latest Salary of Government Officials of Nepal 7.jpg\\\"></figure>\\r\\n<figure><img src=\\\"https://sgp1.digitaloceanspaces.com/edsmed/uploads/Latest%20Salary%20of%20Government%20Officials%20of%20Nepal%208.jpg\\\" data-image=\\\"Latest Salary of Government Officials of Nepal 8.jpg\\\"></figure>\\r\\n<figure><img src=\\\"https://sgp1.digitaloceanspaces.com/edsmed/uploads/Latest%20Salary%20of%20Government%20Officials%20of%20Nepal%209.jpg\\\" data-image=\\\"Latest Salary of Government Officials of Nepal 9.jpg\\\"></figure>\\r\\n<figure><img src=\\\"https://sgp1.digitaloceanspaces.com/edsmed/uploads/Latest%20Salary%20of%20Government%20Officials%20of%20Nepal%2010.jpg\\\" data-image=\\\"Latest Salary of Government Officials of Nepal 10.jpg\\\"></figure>\", \"last_updated_on\": \"2020-11-27T01:58:46.444755Z\", \"has_published\": true, \"is_pinned\": false, \"expiry_date\": null, \"college\": [], \"council\": [], \"university\": []}};\n",
       "    window.action = 'LOAD_DATA_BLOG_DETAIL';\n",
       "    window.hydrate = 'True';\n",
       "    window.base_url = 'http://edusanjal.com';\n",
       "    window.page_list = [{\"id\": 6, \"title\": \"We are Hiring!\", \"slug\": \"join-edusanjal\", \"url\": \"/pages/join-edusanjal/\", \"microdata_item_type\": null}, {\"id\": 5, \"title\": \"Privacy Policy\", \"slug\": \"privacy-policy\", \"url\": \"/pages/privacy-policy/\", \"microdata_item_type\": null}, {\"id\": 2, \"title\": \"Advertise with us\", \"slug\": \"advertise-us\", \"url\": \"/pages/advertise-us/\", \"microdata_item_type\": null}, {\"id\": 1, \"title\": \"About Edusanjal\", \"slug\": \"about-us\", \"url\": \"/pages/about-us/\", \"microdata_item_type\": null}, {\"id\": 3, \"title\": \"Advertising Policy\", \"slug\": \"advertising-policy\", \"url\": \"/pages/advertising-policy/\", \"microdata_item_type\": null}, {\"id\": 4, \"title\": \"Downloads\", \"slug\": \"downloads\", \"url\": \"/pages/downloads/\", \"microdata_item_type\": null}, {\"id\": 8, \"title\": \"Payment Methods\", \"slug\": \"payment-methods\", \"url\": \"/pages/payment-methods/\", \"microdata_item_type\": null}];\n",
       "    window.commercial_list = {\"mid_split\": [{\"id\": 195, \"ad_image\": \"https://media.edusanjal.com/banners/IST-2021.gif\", \"alt\": \"IST Secondary School banner\", \"previous_db_id\": null, \"position\": \"mid-split\", \"order\": 1, \"url\": \"https://edusanjal.com/admission/ist-college-announces-admission-fhs-diploma-hotel-management-bachelors-level/\", \"start_date\": \"2020-07-07T04:32:00Z\", \"end_date\": \"2021-03-11T18:10:00Z\", \"created_on\": \"2020-07-07T04:42:23.706801Z\", \"last_updated_on\": \"2021-01-13T09:22:24.726772Z\", \"has_published\": true, \"college\": 5461}], \"right_sidebar_bottom\": [], \"top_fixed\": [{\"id\": 194, \"ad_image\": \"https://media.edusanjal.com/banners/MBA-EMBA-GCI.jpg\", \"alt\": \"Global College International (GCI) banner\", \"previous_db_id\": null, \"position\": \"top-fixed\", \"order\": 1, \"url\": \"https://edusanjal.com/admission/admissions-open-mba-program-global-college-international/\", \"start_date\": \"2020-06-23T00:50:00Z\", \"end_date\": \"2021-06-01T00:50:00Z\", \"created_on\": \"2020-06-23T01:51:29.431817Z\", \"last_updated_on\": \"2021-02-07T11:00:07.545766Z\", \"has_published\": true, \"college\": 4250}, {\"id\": 199, \"ad_image\": \"https://media.edusanjal.com/banners/GCI-Top-fixed-bachelors-2020---.jpg\", \"alt\": \"Global College International (GCI) banner\", \"previous_db_id\": null, \"position\": \"top-fixed\", \"order\": 2, \"url\": \"https://edusanjal.com/college/global-college-international/\", \"start_date\": \"2020-09-03T09:25:00Z\", \"end_date\": \"2021-06-01T18:10:00Z\", \"created_on\": \"2020-09-03T09:25:39.705927Z\", \"last_updated_on\": \"2021-02-07T11:00:26.015939Z\", \"has_published\": true, \"college\": 4250}], \"top_split_left\": [{\"id\": 118, \"ad_image\": \"https://media.edusanjal.com/banners/Texas-intl-college-bachelor-top.gif\", \"alt\": \"Texas International College banner\", \"previous_db_id\": null, \"position\": \"top-split-right\", \"order\": 1, \"url\": \"https://edusanjal.com/college/texas-international-higher-secondary-school-and-college/\", \"start_date\": \"2018-11-27T08:45:21Z\", \"end_date\": \"2021-03-23T18:15:00Z\", \"created_on\": \"2018-08-03T04:17:55.039242Z\", \"last_updated_on\": \"2020-12-24T03:44:12.140861Z\", \"has_published\": true, \"college\": 459}, {\"id\": 129, \"ad_image\": \"https://media.edusanjal.com/banners/Texas-Banner-mgmt-it2020.gif\", \"alt\": \"Texas College of Management and IT banner\", \"previous_db_id\": null, \"position\": \"top-split-right\", \"order\": 2, \"url\": \"https://edusanjal.com/college/texas-international-college-management-and-it/\", \"start_date\": \"2019-03-22T07:07:48Z\", \"end_date\": \"2021-03-23T18:15:00Z\", \"created_on\": \"2018-11-28T07:37:33.315788Z\", \"last_updated_on\": \"2020-12-24T03:44:06.717638Z\", \"has_published\": true, \"college\": 5580}], \"right_sidebar_top\": [{\"id\": 200, \"ad_image\": \"https://media.edusanjal.com/banners/Banners_Edusanjal_TBC_2.28.gif\", \"alt\": \"The British College banner\", \"previous_db_id\": null, \"position\": \"right-sidebar-top\", \"order\": 1, \"url\": \"https://edusanjal.com/college/british-college/\", \"start_date\": \"2020-10-16T13:03:00Z\", \"end_date\": \"2021-04-16T18:10:00Z\", \"created_on\": \"2020-10-16T13:03:25.581906Z\", \"last_updated_on\": \"2021-02-28T07:06:35.969859Z\", \"has_published\": true, \"college\": 3926}, {\"id\": 153, \"ad_image\": \"https://media.edusanjal.com/banners/thames-2020-latest.gif\", \"alt\": \"Thames International College banner\", \"previous_db_id\": null, \"position\": \"right-sidebar-top\", \"order\": 2, \"url\": \"https://edusanjal.com/college/thames-international-college/\", \"start_date\": \"2019-05-15T06:42:00Z\", \"end_date\": \"2021-03-18T18:10:00Z\", \"created_on\": \"2019-05-15T06:45:56.181757Z\", \"last_updated_on\": \"2020-12-16T08:58:16.889481Z\", \"has_published\": true, \"college\": 3922}, {\"id\": 8, \"ad_image\": \"https://media.edusanjal.com/banners/sanriddhi-KBC-right-side.gif\", \"alt\": \"Samriddhi College banner\", \"previous_db_id\": 10, \"position\": \"right-sidebar-top\", \"order\": 3, \"url\": \"https://edusanjal.com/admission/admission-bachelor-level-programs-samriddhi-college/\", \"start_date\": \"2020-11-30T10:29:58Z\", \"end_date\": \"2021-03-30T18:15:00Z\", \"created_on\": \"2015-11-22T15:41:58.394807Z\", \"last_updated_on\": \"2021-02-26T05:01:30.791985Z\", \"has_published\": true, \"college\": 4204}, {\"id\": 168, \"ad_image\": \"https://media.edusanjal.com/banners/uniglobe-BBA-2020.gif\", \"alt\": \"Uniglobe College banner\", \"previous_db_id\": null, \"position\": \"right-sidebar-top\", \"order\": 4, \"url\": \"https://edusanjal.com/college/uniglobe-college/\", \"start_date\": \"2020-12-06T08:03:00Z\", \"end_date\": \"2021-03-28T18:15:00Z\", \"created_on\": \"2019-07-29T09:45:05.389080Z\", \"last_updated_on\": \"2021-01-29T05:29:41.551212Z\", \"has_published\": true, \"college\": 3825}, {\"id\": 167, \"ad_image\": \"https://media.edusanjal.com/banners/KCMIT.gif\", \"alt\": \"Kantipur College of Management and Information Technology (KCMIT) banner\", \"previous_db_id\": null, \"position\": \"right-sidebar-top\", \"order\": 5, \"url\": \"https://edusanjal.com/admission/kantipur-college-management-and-information-technology-kcmit-announces-admission-open-bba-and-bim-program/\", \"start_date\": \"2020-12-03T08:33:00Z\", \"end_date\": \"2021-03-04T18:10:00Z\", \"created_on\": \"2019-07-29T07:55:20.894609Z\", \"last_updated_on\": \"2021-02-04T10:17:13.032918Z\", \"has_published\": true, \"college\": 3777}, {\"id\": 132, \"ad_image\": \"https://media.edusanjal.com/banners/KCCS_banner.gif\", \"alt\": \"Kathmandu College of Central State banner\", \"previous_db_id\": null, \"position\": \"right-sidebar-top\", \"order\": 6, \"url\": \"https://edusanjal.com/admission/kathmandu-college-central-state-announces-admission-open-bbs-ba-and-bsw-programs/\", \"start_date\": \"2020-12-09T09:59:58Z\", \"end_date\": \"2021-03-08T18:15:00Z\", \"created_on\": \"2019-02-01T10:00:15.520560Z\", \"last_updated_on\": \"2021-02-10T10:46:21.044883Z\", \"has_published\": true, \"college\": 4052}, {\"id\": 209, \"ad_image\": \"https://media.edusanjal.com/banners/Banner.gif\", \"alt\": \"Nepal Mega College banner\", \"previous_db_id\": null, \"position\": \"right-sidebar-top\", \"order\": 8, \"url\": \"https://edusanjal.com/college/nepal-mega-college/\", \"start_date\": \"2021-02-05T07:10:00Z\", \"end_date\": \"2021-03-05T07:10:00Z\", \"created_on\": \"2021-02-05T07:24:46.766786Z\", \"last_updated_on\": \"2021-02-15T09:04:39.576902Z\", \"has_published\": true, \"college\": 4399}, {\"id\": 203, \"ad_image\": \"https://media.edusanjal.com/banners/campion-college-Bachelors---2020.gif\", \"alt\": \"Campion College banner\", \"previous_db_id\": null, \"position\": \"right-sidebar-top\", \"order\": 9, \"url\": \"https://edusanjal.com/college/campion-college/\", \"start_date\": \"2020-12-02T04:57:00Z\", \"end_date\": \"2021-03-29T17:10:00Z\", \"created_on\": \"2020-12-02T04:57:53.304397Z\", \"last_updated_on\": \"2021-01-29T05:30:28.058449Z\", \"has_published\": true, \"college\": 4343}, {\"id\": 23, \"ad_image\": \"https://media.edusanjal.com/banners/saimBBA-Top.gif\", \"alt\": \"SAIM College banner\", \"previous_db_id\": 39, \"position\": \"right-sidebar-top\", \"order\": 9, \"url\": \"https://edusanjal.com/admission/bba-admission-open-notice-saim-college/\", \"start_date\": \"2020-12-14T10:49:00Z\", \"end_date\": \"2021-03-14T18:10:00Z\", \"created_on\": \"2016-11-28T01:03:32.865889Z\", \"last_updated_on\": \"2021-02-02T04:42:39.843734Z\", \"has_published\": true, \"college\": 4236}], \"right_sidebar_mid\": [{\"id\": 210, \"ad_image\": \"https://media.edusanjal.com/banners/2.gif\", \"alt\": \"Siddhant Campus banner\", \"previous_db_id\": null, \"position\": \"right-sidebar-mid\", \"order\": 2, \"url\": \"https://edusanjal.com/college/siddhant-campus/\", \"start_date\": \"2021-02-05T16:05:00Z\", \"end_date\": \"2021-03-05T16:05:00Z\", \"created_on\": \"2021-02-05T16:05:44.197720Z\", \"last_updated_on\": \"2021-02-05T16:37:06.911207Z\", \"has_published\": true, \"college\": 5697}], \"top_split_right\": [{\"id\": 86, \"ad_image\": \"https://media.edusanjal.com/banners/UNIVERSAL-2020-bachelors.gif\", \"alt\": \"Universal College banner\", \"previous_db_id\": null, \"position\": \"top-split-left\", \"order\": 0, \"url\": \"https://edusanjal.com/college/universal-college/\", \"start_date\": \"2019-07-28T04:15:00Z\", \"end_date\": \"2021-07-14T17:15:00Z\", \"created_on\": \"2018-02-25T03:48:43.336966Z\", \"last_updated_on\": \"2021-01-01T04:49:52.834923Z\", \"has_published\": true, \"college\": 3927}, {\"id\": 133, \"ad_image\": \"https://media.edusanjal.com/banners/kmc-new-admission-open2.gif\", \"alt\": \"Kathmandu Model College (KMC) banner\", \"previous_db_id\": null, \"position\": \"top-split-left\", \"order\": 1, \"url\": \"https://edusanjal.com/college/kathmandu-model-college/\", \"start_date\": \"2019-04-15T04:15:17Z\", \"end_date\": \"2021-07-14T17:15:00Z\", \"created_on\": \"2019-02-06T14:20:06.115842Z\", \"last_updated_on\": \"2021-01-01T04:50:12.694910Z\", \"has_published\": true, \"college\": 3831}, {\"id\": 110, \"ad_image\": \"https://media.edusanjal.com/banners/himalaya-engineering-admission_open-aug_2019.gif\", \"alt\": \"Himalaya College of Engineering banner\", \"previous_db_id\": null, \"position\": \"top-split-left\", \"order\": 2, \"url\": \"https://edusanjal.com/college/himalaya-college-engineering/\", \"start_date\": \"2020-12-11T04:15:00Z\", \"end_date\": \"2021-07-14T17:15:00Z\", \"created_on\": \"2018-07-18T10:00:41.957018Z\", \"last_updated_on\": \"2021-01-01T04:50:41.503488Z\", \"has_published\": true, \"college\": 2985}, {\"id\": 56, \"ad_image\": \"https://media.edusanjal.com/banners/apollo-admission-_aug-2019.gif\", \"alt\": \"Apollo International College (AIC) banner\", \"previous_db_id\": null, \"position\": \"top-split-left\", \"order\": 2, \"url\": \"https://edusanjal.com/college/apollo-international-college/\", \"start_date\": \"2020-12-11T06:36:00Z\", \"end_date\": \"2021-07-14T18:14:00Z\", \"created_on\": \"2017-08-31T04:15:00.703066Z\", \"last_updated_on\": \"2021-01-01T04:50:31.581518Z\", \"has_published\": true, \"college\": 3843}, {\"id\": 103, \"ad_image\": \"https://media.edusanjal.com/banners/NEW-SUMMIT-2020-bachelors.gif\", \"alt\": \"New Summit College banner\", \"previous_db_id\": null, \"position\": \"top-split-left\", \"order\": 4, \"url\": \"https://edusanjal.com/college/new-summit-college/\", \"start_date\": \"2020-07-05T07:07:08Z\", \"end_date\": \"2021-07-14T17:15:00Z\", \"created_on\": \"2018-06-18T10:03:40.297971Z\", \"last_updated_on\": \"2021-01-01T04:50:02.215972Z\", \"has_published\": true, \"college\": 3868}, {\"id\": 206, \"ad_image\": \"https://media.edusanjal.com/banners/Universal-Engineering-and-Science-College-Banner.gif\", \"alt\": \"Universal Engineering and Science College banner\", \"previous_db_id\": null, \"position\": \"top-split-left\", \"order\": 4, \"url\": \"https://edusanjal.com/college/universal-science-college/\", \"start_date\": \"2020-12-22T08:05:00Z\", \"end_date\": \"2021-07-14T18:10:00Z\", \"created_on\": \"2020-12-22T08:05:44.167878Z\", \"last_updated_on\": \"2021-01-01T04:50:24.848752Z\", \"has_published\": true, \"college\": 3240}]};\n",
       "    window.roadblock = [];\n",
       "  </script>\n",
       "<script src=\"https://cdn1.edusanjal.com/es/common.1.309ca2714d0b8fbfaae7.bundle.js\"></script>\n",
       "<script src=\"https://cdn1.edusanjal.com/es/index.1.d33cd4e7836362cf0f8a.bundle.js\"></script>\n",
       "<script type=\"text/javascript\">\n",
       "    _atrk_opts = {atrk_acct: \"aKeKp1IWh910cv\", domain: \"edusanjal.com\", dynamic: true};\n",
       "    (function () {\n",
       "      var as = document.createElement('script');\n",
       "      as.type = 'text/javascript';\n",
       "      as.async = true;\n",
       "      as.src = \"https://certify-js.alexametrics.com/atrk.js\";\n",
       "      var s = document.getElementsByTagName('script')[0];\n",
       "      s.parentNode.insertBefore(as, s);\n",
       "    })();\n",
       "  </script>\n",
       "<noscript><img alt=\"\" height=\"1\" src=\"https://certify.alexametrics.com/atrk.gif?account=aKeKp1IWh910cv\" style=\"display:none\" width=\"1\"/></noscript>\n",
       "</body>\n",
       "</html>"
      ]
     },
     "execution_count": 5,
     "metadata": {},
     "output_type": "execute_result"
    }
   ],
   "source": [
    "soup = BeautifulSoup(response, \"lxml\")\n",
    "soup"
   ]
  },
  {
   "cell_type": "code",
   "execution_count": 6,
   "metadata": {},
   "outputs": [
    {
     "data": {
      "text/plain": [
       "<table>\n",
       "<tbody><tr>\n",
       "<td><strong>S.N</strong></td>\n",
       "<td><strong>Position/ Level </strong></td>\n",
       "<td><strong>Starting Salary </strong></td>\n",
       "<td><strong>No of Grade</strong></td>\n",
       "<td><strong>Rate of Grade</strong></td>\n",
       "<td><strong>Total</strong></td>\n",
       "</tr>\n",
       "<tr>\n",
       "<td>1</td>\n",
       "<td>Chief Secretary </td>\n",
       "<td>Rs. 65,140</td>\n",
       "<td>2</td>\n",
       "<td>2171</td>\n",
       "<td>Rs.69482</td>\n",
       "</tr>\n",
       "<tr>\n",
       "<td>2</td>\n",
       "<td>Secretary  </td>\n",
       "<td>Rs. 60,680</td>\n",
       "<td>2</td>\n",
       "<td>2023</td>\n",
       "<td>Rs.64726</td>\n",
       "</tr>\n",
       "<tr>\n",
       "<td>3</td>\n",
       "<td>Joint Secretary</td>\n",
       "<td>Rs.47,380</td>\n",
       "<td>7</td>\n",
       "<td>1579</td>\n",
       "<td>Rs. 58,433</td>\n",
       "</tr>\n",
       "<tr>\n",
       "<td>4</td>\n",
       "<td>Deputy Secretary</td>\n",
       "<td>Rs. 40,380</td>\n",
       "<td>8</td>\n",
       "<td>1346</td>\n",
       "<td>Rs. 51,148</td>\n",
       "</tr>\n",
       "<tr>\n",
       "<td>5</td>\n",
       "<td>Section Officer</td>\n",
       "<td>Rs. 35,990</td>\n",
       "<td>8</td>\n",
       "<td>1200</td>\n",
       "<td>Rs. 45,590</td>\n",
       "</tr>\n",
       "<tr>\n",
       "<td>6</td>\n",
       "<td>Nayab Subba</td>\n",
       "<td>Rs. 28,200</td>\n",
       "<td>10</td>\n",
       "<td>940</td>\n",
       "<td>Rs. 37,600</td>\n",
       "</tr>\n",
       "<tr>\n",
       "<td>7</td>\n",
       "<td>Kharidar</td>\n",
       "<td>Rs.26,610</td>\n",
       "<td>10</td>\n",
       "<td>887</td>\n",
       "<td>Rs. 35,480</td>\n",
       "</tr>\n",
       "</tbody></table>"
      ]
     },
     "execution_count": 6,
     "metadata": {},
     "output_type": "execute_result"
    }
   ],
   "source": [
    "soup.table"
   ]
  },
  {
   "cell_type": "code",
   "execution_count": 7,
   "metadata": {},
   "outputs": [
    {
     "data": {
      "text/plain": [
       "[<tr>\n",
       " <td><strong>S.N</strong></td>\n",
       " <td><strong>Position/ Level </strong></td>\n",
       " <td><strong>Starting Salary </strong></td>\n",
       " <td><strong>No of Grade</strong></td>\n",
       " <td><strong>Rate of Grade</strong></td>\n",
       " <td><strong>Total</strong></td>\n",
       " </tr>,\n",
       " <tr>\n",
       " <td>1</td>\n",
       " <td>Chief Secretary </td>\n",
       " <td>Rs. 65,140</td>\n",
       " <td>2</td>\n",
       " <td>2171</td>\n",
       " <td>Rs.69482</td>\n",
       " </tr>,\n",
       " <tr>\n",
       " <td>2</td>\n",
       " <td>Secretary  </td>\n",
       " <td>Rs. 60,680</td>\n",
       " <td>2</td>\n",
       " <td>2023</td>\n",
       " <td>Rs.64726</td>\n",
       " </tr>,\n",
       " <tr>\n",
       " <td>3</td>\n",
       " <td>Joint Secretary</td>\n",
       " <td>Rs.47,380</td>\n",
       " <td>7</td>\n",
       " <td>1579</td>\n",
       " <td>Rs. 58,433</td>\n",
       " </tr>,\n",
       " <tr>\n",
       " <td>4</td>\n",
       " <td>Deputy Secretary</td>\n",
       " <td>Rs. 40,380</td>\n",
       " <td>8</td>\n",
       " <td>1346</td>\n",
       " <td>Rs. 51,148</td>\n",
       " </tr>,\n",
       " <tr>\n",
       " <td>5</td>\n",
       " <td>Section Officer</td>\n",
       " <td>Rs. 35,990</td>\n",
       " <td>8</td>\n",
       " <td>1200</td>\n",
       " <td>Rs. 45,590</td>\n",
       " </tr>,\n",
       " <tr>\n",
       " <td>6</td>\n",
       " <td>Nayab Subba</td>\n",
       " <td>Rs. 28,200</td>\n",
       " <td>10</td>\n",
       " <td>940</td>\n",
       " <td>Rs. 37,600</td>\n",
       " </tr>,\n",
       " <tr>\n",
       " <td>7</td>\n",
       " <td>Kharidar</td>\n",
       " <td>Rs.26,610</td>\n",
       " <td>10</td>\n",
       " <td>887</td>\n",
       " <td>Rs. 35,480</td>\n",
       " </tr>]"
      ]
     },
     "execution_count": 7,
     "metadata": {},
     "output_type": "execute_result"
    }
   ],
   "source": [
    "tags = soup.find_all('tr')\n",
    "tags"
   ]
  },
  {
   "cell_type": "code",
   "execution_count": 8,
   "metadata": {},
   "outputs": [],
   "source": [
    "data = []\n",
    "for i in tags:\n",
    "  data.append(i.text)"
   ]
  },
  {
   "cell_type": "code",
   "execution_count": 9,
   "metadata": {},
   "outputs": [
    {
     "data": {
      "text/plain": [
       "['\\nS.N\\nPosition/ Level \\nStarting Salary \\nNo of Grade\\nRate of Grade\\nTotal\\n',\n",
       " '\\n1\\nChief Secretary \\nRs. 65,140\\n2\\n2171\\nRs.69482\\n',\n",
       " '\\n2\\nSecretary\\xa0 \\nRs. 60,680\\n2\\n2023\\nRs.64726\\n',\n",
       " '\\n3\\nJoint Secretary\\nRs.47,380\\n7\\n1579\\nRs. 58,433\\n',\n",
       " '\\n4\\nDeputy Secretary\\nRs. 40,380\\n8\\n1346\\nRs. 51,148\\n',\n",
       " '\\n5\\nSection Officer\\nRs. 35,990\\n8\\n1200\\nRs. 45,590\\n',\n",
       " '\\n6\\nNayab Subba\\nRs. 28,200\\n10\\n940\\nRs. 37,600\\n',\n",
       " '\\n7\\nKharidar\\nRs.26,610\\n10\\n887\\nRs. 35,480\\n']"
      ]
     },
     "execution_count": 9,
     "metadata": {},
     "output_type": "execute_result"
    }
   ],
   "source": [
    "data"
   ]
  },
  {
   "cell_type": "code",
   "execution_count": 18,
   "metadata": {},
   "outputs": [],
   "source": [
    "data = data[0:7]\n"
   ]
  },
  {
   "cell_type": "code",
   "execution_count": 19,
   "metadata": {},
   "outputs": [],
   "source": [
    "final_output = []\n",
    "for i in data:\n",
    "  x = i.split('\\n')[1:]\n",
    "  final_output.append(x)"
   ]
  },
  {
   "cell_type": "code",
   "execution_count": 20,
   "metadata": {},
   "outputs": [],
   "source": [
    "import csv\n",
    "f = open('salary.csv','w')\n",
    "x = csv.writer(f)\n",
    "for i in final_output:\n",
    "  x.writerow(i)\n",
    "\n",
    "f.close()"
   ]
  },
  {
   "cell_type": "code",
   "execution_count": null,
   "metadata": {},
   "outputs": [],
   "source": []
  }
 ],
 "metadata": {
  "kernelspec": {
   "display_name": "Python 3",
   "language": "python",
   "name": "python3"
  },
  "language_info": {
   "codemirror_mode": {
    "name": "ipython",
    "version": 3
   },
   "file_extension": ".py",
   "mimetype": "text/x-python",
   "name": "python",
   "nbconvert_exporter": "python",
   "pygments_lexer": "ipython3",
   "version": "3.8.5"
  }
 },
 "nbformat": 4,
 "nbformat_minor": 4
}
