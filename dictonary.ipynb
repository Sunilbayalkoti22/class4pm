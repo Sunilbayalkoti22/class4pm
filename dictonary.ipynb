{
 "cells": [
  {
   "cell_type": "code",
   "execution_count": 1,
   "metadata": {},
   "outputs": [],
   "source": [
    "# a = {}\n",
    "# a = {<key>:<value>,<key>:<value>,<key>:<value>}"
   ]
  },
  {
   "cell_type": "code",
   "execution_count": 2,
   "metadata": {},
   "outputs": [
    {
     "data": {
      "text/plain": [
       "dict"
      ]
     },
     "execution_count": 2,
     "metadata": {},
     "output_type": "execute_result"
    }
   ],
   "source": [
    "a = {}\n",
    "type(a)"
   ]
  },
  {
   "cell_type": "code",
   "execution_count": 3,
   "metadata": {},
   "outputs": [
    {
     "name": "stdout",
     "output_type": "stream",
     "text": [
      "{'a': 'Apple', 'b': 'Ball'}\n"
     ]
    },
    {
     "data": {
      "text/plain": [
       "'Apple'"
      ]
     },
     "execution_count": 3,
     "metadata": {},
     "output_type": "execute_result"
    }
   ],
   "source": [
    "a = {\"a\":\"Apple\",\"b\":\"Ball\"}\n",
    "print(a)\n",
    "a[\"a\"]"
   ]
  },
  {
   "cell_type": "code",
   "execution_count": 4,
   "metadata": {},
   "outputs": [],
   "source": [
    "# -Mutable datatype\n",
    "# -it may have multiple values\n",
    "# -no duplicate index\n",
    "# -Ordered"
   ]
  },
  {
   "cell_type": "code",
   "execution_count": 5,
   "metadata": {},
   "outputs": [
    {
     "data": {
      "text/plain": [
       "{'a': 'Ant', 'b': 'Ball'}"
      ]
     },
     "execution_count": 5,
     "metadata": {},
     "output_type": "execute_result"
    }
   ],
   "source": [
    "a[\"a\"]=\"Ant\"\n",
    "a"
   ]
  },
  {
   "cell_type": "code",
   "execution_count": 6,
   "metadata": {},
   "outputs": [
    {
     "data": {
      "text/plain": [
       "{'a': 'Apple', 'b': 'Ball', 'c': 'Cat'}"
      ]
     },
     "execution_count": 6,
     "metadata": {},
     "output_type": "execute_result"
    }
   ],
   "source": [
    "a = {}\n",
    "a[\"a\"] = \"Apple\"\n",
    "a[\"b\"] = \"Ball\"\n",
    "a[\"c\"] = \"Cat\"\n",
    "a"
   ]
  },
  {
   "cell_type": "code",
   "execution_count": 7,
   "metadata": {},
   "outputs": [
    {
     "data": {
      "text/plain": [
       "{'a': 'Ant', 'b': 'Ball', 'c': 'Cat'}"
      ]
     },
     "execution_count": 7,
     "metadata": {},
     "output_type": "execute_result"
    }
   ],
   "source": [
    "a[\"a\"] = \"Ant\"\n",
    "a"
   ]
  },
  {
   "cell_type": "code",
   "execution_count": 8,
   "metadata": {},
   "outputs": [
    {
     "name": "stdout",
     "output_type": "stream",
     "text": [
      "a\n",
      "b\n",
      "c\n"
     ]
    }
   ],
   "source": [
    "for i in a:\n",
    "    print(i)"
   ]
  },
  {
   "cell_type": "code",
   "execution_count": 9,
   "metadata": {},
   "outputs": [
    {
     "name": "stdout",
     "output_type": "stream",
     "text": [
      "Ant\n",
      "Ball\n",
      "Cat\n"
     ]
    }
   ],
   "source": [
    "for i in a.values():\n",
    "    print(i)"
   ]
  },
  {
   "cell_type": "code",
   "execution_count": 10,
   "metadata": {},
   "outputs": [
    {
     "name": "stdout",
     "output_type": "stream",
     "text": [
      "('a', 'Ant')\n",
      "('b', 'Ball')\n",
      "('c', 'Cat')\n"
     ]
    }
   ],
   "source": [
    "for i in a.items():\n",
    "    print(i)"
   ]
  },
  {
   "cell_type": "code",
   "execution_count": 11,
   "metadata": {},
   "outputs": [
    {
     "data": {
      "text/plain": [
       "[('a', 'Ant'), ('b', 'Ball'), ('c', 'Cat')]"
      ]
     },
     "execution_count": 11,
     "metadata": {},
     "output_type": "execute_result"
    }
   ],
   "source": [
    "key_value = []\n",
    "for i in a.items():\n",
    "    key_value.append(i)\n",
    "key_value"
   ]
  },
  {
   "cell_type": "code",
   "execution_count": 12,
   "metadata": {},
   "outputs": [
    {
     "data": {
      "text/plain": [
       "[['a', 'Ant'], ['b', 'Ball'], ['c', 'Cat']]"
      ]
     },
     "execution_count": 12,
     "metadata": {},
     "output_type": "execute_result"
    }
   ],
   "source": [
    "new_data = []\n",
    "for i in key_value:\n",
    "    j = list(i)\n",
    "    new_data.append(j)\n",
    "new_data"
   ]
  },
  {
   "cell_type": "code",
   "execution_count": 13,
   "metadata": {},
   "outputs": [
    {
     "data": {
      "text/plain": [
       "[['A', 'Ant'], ['b', 'Ball'], ['c', 'Cat']]"
      ]
     },
     "execution_count": 13,
     "metadata": {},
     "output_type": "execute_result"
    }
   ],
   "source": [
    "new_data[0][0] = \"A\"\n",
    "new_data"
   ]
  },
  {
   "cell_type": "code",
   "execution_count": 14,
   "metadata": {},
   "outputs": [
    {
     "name": "stdout",
     "output_type": "stream",
     "text": [
      "{'A': 'Ant', 'b': 'Ball', 'c': 'Cat'}\n"
     ]
    }
   ],
   "source": [
    "d = {}\n",
    "for k in new_data:\n",
    "    key = k[0]\n",
    "    value = k[1]\n",
    "    d[key] = value\n",
    "print(d)"
   ]
  },
  {
   "cell_type": "code",
   "execution_count": 16,
   "metadata": {},
   "outputs": [
    {
     "name": "stdout",
     "output_type": "stream",
     "text": [
      "Enter no of people = 2\n",
      "Enter name = Ram\n",
      "Enter phone = 98373773\n",
      "Enter name = Shyam\n",
      "Enter phone = 9836366373\n",
      "The info is = \n",
      " {'Ram': 98373773, 'Shyam': 9836366373}\n"
     ]
    }
   ],
   "source": [
    "d = {}\n",
    "n = int(input(\"Enter no of people = \"))\n",
    "for i in range(n):\n",
    "    name = input(\"Enter name = \")\n",
    "    phone = int(input(\"Enter phone = \"))\n",
    "    d[name] = phone\n",
    "print(\"The info is = \\n\",d)"
   ]
  },
  {
   "cell_type": "code",
   "execution_count": 17,
   "metadata": {},
   "outputs": [
    {
     "data": {
      "text/plain": [
       "9836366373"
      ]
     },
     "execution_count": 17,
     "metadata": {},
     "output_type": "execute_result"
    }
   ],
   "source": [
    "d[\"Shyam\"]"
   ]
  },
  {
   "cell_type": "code",
   "execution_count": 19,
   "metadata": {},
   "outputs": [],
   "source": [
    "a = {\"a\":\"Apple\"}\n",
    "b = {\"b\":\"Ball\"}\n",
    "a.update(b)"
   ]
  },
  {
   "cell_type": "code",
   "execution_count": 20,
   "metadata": {},
   "outputs": [
    {
     "data": {
      "text/plain": [
       "{'a': 'Apple', 'b': 'Ball'}"
      ]
     },
     "execution_count": 20,
     "metadata": {},
     "output_type": "execute_result"
    }
   ],
   "source": [
    "a"
   ]
  },
  {
   "cell_type": "code",
   "execution_count": 21,
   "metadata": {},
   "outputs": [
    {
     "data": {
      "text/plain": [
       "{'b': 'Ball'}"
      ]
     },
     "execution_count": 21,
     "metadata": {},
     "output_type": "execute_result"
    }
   ],
   "source": [
    "d = {'a': 'Apple', 'b': 'Ball'}\n",
    "del d[\"a\"]\n",
    "b"
   ]
  },
  {
   "cell_type": "code",
   "execution_count": 22,
   "metadata": {},
   "outputs": [
    {
     "name": "stdout",
     "output_type": "stream",
     "text": [
      "{'b': 'Ball'}\n"
     ]
    }
   ],
   "source": [
    "d = {'a': 'Apple', 'b': 'Ball'}\n",
    "d.pop(\"a\")\n",
    "print(d)"
   ]
  },
  {
   "cell_type": "code",
   "execution_count": 23,
   "metadata": {},
   "outputs": [
    {
     "data": {
      "text/plain": [
       "{}"
      ]
     },
     "execution_count": 23,
     "metadata": {},
     "output_type": "execute_result"
    }
   ],
   "source": [
    "d = {'a': 'Apple', 'b': 'Ball'}\n",
    "d.clear()\n",
    "d"
   ]
  },
  {
   "cell_type": "code",
   "execution_count": 24,
   "metadata": {},
   "outputs": [
    {
     "name": "stdout",
     "output_type": "stream",
     "text": [
      "{'a': ['Apple', 'Ant'], 'b': ['Ball', 'Bat']}\n",
      "['Apple', 'Ant']\n",
      "Apple\n"
     ]
    }
   ],
   "source": [
    "a = {\"a\":[\"Apple\",\"Ant\"],\"b\":[\"Ball\",\"Bat\"]}\n",
    "print(a)\n",
    "print(a[\"a\"])\n",
    "print(a[\"a\"][0])"
   ]
  },
  {
   "cell_type": "code",
   "execution_count": 25,
   "metadata": {},
   "outputs": [
    {
     "name": "stdout",
     "output_type": "stream",
     "text": [
      "Enter no of people = 2\n",
      "Enter name = Ram\n",
      "Enter ntc phone = 98377373773\n",
      "Enter ncell phone = 9803773737\n",
      "Enter name = Shyam\n",
      "Enter ntc phone = 983663663\n",
      "Enter ncell phone = 9803737373\n",
      "The info is = \n",
      " {'Ram': [98377373773, 9803773737], 'Shyam': [983663663, 9803737373]}\n"
     ]
    }
   ],
   "source": [
    "d = {}\n",
    "n = int(input(\"Enter no of people = \"))\n",
    "for i in range(n):\n",
    "    name = input(\"Enter name = \")\n",
    "    ntc_phone = int(input(\"Enter ntc phone = \"))\n",
    "    ncell_phone = int(input(\"Enter ncell phone = \"))\n",
    "    d[name] = [ntc_phone,ncell_phone]\n",
    "print(\"The info is = \\n\",d)"
   ]
  },
  {
   "cell_type": "code",
   "execution_count": 26,
   "metadata": {},
   "outputs": [
    {
     "data": {
      "text/plain": [
       "[98377373773, 9803773737]"
      ]
     },
     "execution_count": 26,
     "metadata": {},
     "output_type": "execute_result"
    }
   ],
   "source": [
    "d[\"Ram\"]"
   ]
  },
  {
   "cell_type": "code",
   "execution_count": 27,
   "metadata": {},
   "outputs": [
    {
     "data": {
      "text/plain": [
       "{'Ram': [535345345, 35353543535, '9856554543'], 'Shyam': [35435345, 56465654]}"
      ]
     },
     "execution_count": 27,
     "metadata": {},
     "output_type": "execute_result"
    }
   ],
   "source": [
    "d =  {'Ram': [535345345, 35353543535], \n",
    "      'Shyam': [35435345, 56465654]}\n",
    "d[\"Ram\"].append(\"9856554543\")\n",
    "d"
   ]
  },
  {
   "cell_type": "code",
   "execution_count": 28,
   "metadata": {},
   "outputs": [
    {
     "data": {
      "text/plain": [
       "{'Ram': [535345345, 35353543535, 9823223221], 'Shyam': [35435345, 56465654]}"
      ]
     },
     "execution_count": 28,
     "metadata": {},
     "output_type": "execute_result"
    }
   ],
   "source": [
    "d[\"Ram\"][2] =9823223221\n",
    "d"
   ]
  },
  {
   "cell_type": "code",
   "execution_count": 29,
   "metadata": {},
   "outputs": [
    {
     "data": {
      "text/plain": [
       "{'Ram': [535345345, 35353543535], 'Shyam': [35435345, 56465654]}"
      ]
     },
     "execution_count": 29,
     "metadata": {},
     "output_type": "execute_result"
    }
   ],
   "source": [
    "del d[\"Ram\"][2]\n",
    "d"
   ]
  },
  {
   "cell_type": "code",
   "execution_count": 30,
   "metadata": {},
   "outputs": [
    {
     "name": "stdout",
     "output_type": "stream",
     "text": [
      "Enter no of people = 2\n",
      "Enter name = Ram\n",
      "Enter price = 1000\n",
      "Enter quantity = 5\n",
      "Enter name = apple\n",
      "Enter price = 2000\n",
      "Enter quantity = 4\n",
      "The info is = \n",
      " {'Ram': [1000, 5, 5000], 'apple': [2000, 4, 8000]}\n"
     ]
    }
   ],
   "source": [
    " d = {}\n",
    "n = int(input(\"Enter no of people = \"))\n",
    "for i in range(n):\n",
    "    name = input(\"Enter name = \")\n",
    "    price = int(input(\"Enter price = \"))\n",
    "    quantity = int(input(\"Enter quantity = \"))\n",
    "    total = price*quantity\n",
    "    d[name] = [price,quantity,total]\n",
    "print(\"The info is = \\n\",d)"
   ]
  },
  {
   "cell_type": "code",
   "execution_count": 31,
   "metadata": {},
   "outputs": [],
   "source": [
    "a = [{\"Name\":\"Ram\",\"Phone\":9867665654},\n",
    "     {\"Name\":\"Shyam\",\"Phone\":98678678},\n",
    "     {\"Name\":\"hari\",\"Phone\":9867665654}]\n"
   ]
  },
  {
   "cell_type": "code",
   "execution_count": 32,
   "metadata": {},
   "outputs": [
    {
     "name": "stdout",
     "output_type": "stream",
     "text": [
      "{'Name': 'Ram', 'Phone': 9867665654}\n",
      "{'Name': 'Shyam', 'Phone': 98678678}\n",
      "{'Name': 'hari', 'Phone': 9867665654}\n"
     ]
    }
   ],
   "source": [
    "for i in a:\n",
    "    print(i)"
   ]
  },
  {
   "cell_type": "code",
   "execution_count": 33,
   "metadata": {},
   "outputs": [
    {
     "name": "stdout",
     "output_type": "stream",
     "text": [
      "Enter no of people = 2\n",
      "Enter name = Apple\n",
      "Enter price = 500\n",
      "Enter quantity = 5\n",
      "Enter name = orange\n",
      "Enter price = 1000\n",
      "Enter quantity = 5\n",
      "The info is = \n",
      " [{'Name': 'Apple', 'Price': 500, 'Quantity': 5, 'Total': 2500}, {'Name': 'orange', 'Price': 1000, 'Quantity': 5, 'Total': 5000}]\n",
      "The total is =  7500\n"
     ]
    }
   ],
   "source": [
    "d = []\n",
    "s = 0\n",
    "n = int(input(\"Enter no of people = \"))\n",
    "for i in range(n):\n",
    "    name = input(\"Enter name = \")\n",
    "    price = int(input(\"Enter price = \"))\n",
    "    quantity = int(input(\"Enter quantity = \"))\n",
    "    total = price*quantity\n",
    "    s = s+total\n",
    "    data = {\"Name\":name,\"Price\":price,\n",
    "            \"Quantity\":quantity,\"Total\":total}\n",
    "    d.append(data)\n",
    "print(\"The info is = \\n\",d)\n",
    "print(\"The total is = \",s)"
   ]
  },
  {
   "cell_type": "code",
   "execution_count": 34,
   "metadata": {},
   "outputs": [
    {
     "data": {
      "text/plain": [
       "1000"
      ]
     },
     "execution_count": 34,
     "metadata": {},
     "output_type": "execute_result"
    }
   ],
   "source": [
    "d[0][\"Price\"] = 200\n",
    "q = d[0][\"Quantity\"]\n",
    "total = d[0][\"Price\"]*q\n",
    "total"
   ]
  },
  {
   "cell_type": "code",
   "execution_count": 35,
   "metadata": {},
   "outputs": [
    {
     "data": {
      "text/plain": [
       "[{'Name': 'Apple', 'Price': 200, 'Quantity': 5, 'Total': 1000},\n",
       " {'Name': 'orange', 'Price': 1000, 'Quantity': 5, 'Total': 5000}]"
      ]
     },
     "execution_count": 35,
     "metadata": {},
     "output_type": "execute_result"
    }
   ],
   "source": [
    "d[0][\"Total\"] = total\n",
    "d"
   ]
  },
  {
   "cell_type": "code",
   "execution_count": 4,
   "metadata": {
    "scrolled": true
   },
   "outputs": [
    {
     "name": "stdout",
     "output_type": "stream",
     "text": [
      "Enter new quantity = 5\n",
      "Enter new price = 1000\n",
      "Enter index = 0\n",
      "[{'Name': 'Apple', 'Price': 1000, 'Quantity': 5, 'Total': 1000, 'total': 5000}, {'Name': 'Apple', 'Price': 200, 'Quantity': 5, 'Total': 1000}]\n",
      "5000\n"
     ]
    }
   ],
   "source": [
    "d = [{'Name': 'Apple', 'Price': 200, 'Quantity': 5, 'Total': 1000},\n",
    "     {'Name': 'Apple', 'Price': 200, 'Quantity': 5, 'Total': 1000}]\n",
    "     \n",
    "q = int(input(\"Enter new quantity = \"))\n",
    "p = int(input(\"Enter new price = \"))\n",
    "i = int(input(\"Enter index = \"))\n",
    "d[i][\"Quantity\"] = q \n",
    "d[i][\"Price\"] = p \n",
    "total = p*q\n",
    "d[i][\"total\"] = total \n",
    "print(d)\n",
    "print(total)"
   ]
  },
  {
   "cell_type": "code",
   "execution_count": 7,
   "metadata": {},
   "outputs": [
    {
     "name": "stdout",
     "output_type": "stream",
     "text": [
      "The all total =  2000\n"
     ]
    }
   ],
   "source": [
    "s = 0 \n",
    "for i in d:\n",
    "    x = i[\"Total\"]\n",
    "    s = s+x\n",
    "print(\"The all total = \", s)"
   ]
  },
  {
   "cell_type": "code",
   "execution_count": 8,
   "metadata": {},
   "outputs": [],
   "source": [
    "# WAP for result management system (update the marks is required)\n"
   ]
  },
  {
   "cell_type": "code",
   "execution_count": 16,
   "metadata": {},
   "outputs": [
    {
     "name": "stdout",
     "output_type": "stream",
     "text": [
      "Enter number of students = 2\n",
      "Enter name = ram\n",
      "Enter physics marks = 88\n",
      "Enter chemistry marks = 45\n",
      "Enter math marks = 65\n",
      "Enter english marks = 45\n",
      "Enter nepali marks = 65\n",
      "Enter name = Shyam\n",
      "Enter physics marks = 45\n",
      "Enter chemistry marks = 54\n",
      "Enter math marks = 45\n",
      "Enter english marks = 65\n",
      "Enter nepali marks = 756\n",
      "The result is  [{'name': 'ram', 'physics': 88, 'chemistry': 45, 'math': 65, 'nepali': 65, 'total': 308}, {'name': 'Shyam', 'physics': 45, 'chemistry': 54, 'math': 45, 'nepali': 756, 'total': 965}]\n",
      "The total  is  965\n",
      "The percentage is  193.0\n",
      "Enter subject = physics\n",
      "Enter new marks = 40\n",
      "Enter index = 1\n",
      "[{'name': 'ram', 'physics': 88, 'chemistry': 45, 'math': 65, 'nepali': 65, 'total': 308}, {'name': 'Shyam', 'physics': 45, 'chemistry': 54, 'math': 45, 'nepali': 756, 'total': 965}]\n"
     ]
    }
   ],
   "source": [
    "result = []\n",
    "n = int(input(\"Enter number of students = \"))\n",
    "for i in range(1,n+1):\n",
    "    name = input(\"Enter name = \")\n",
    "    physics = int(input(\"Enter physics marks = \"))\n",
    "    chemistry = int(input(\"Enter chemistry marks = \"))\n",
    "    math = int(input(\"Enter math marks = \"))\n",
    "    english = int(input(\"Enter english marks = \"))\n",
    "    nepali = int(input(\"Enter nepali marks = \"))\n",
    "    total = sum([physics,chemistry,math,english,nepali])   \n",
    "    per = total/5\n",
    "    data = {\"name\":name ,\"physics\":physics,\"chemistry\":chemistry,\"math\":math,\"nepali\":nepali, \"total\":total}\n",
    "    result.append(data)\n",
    "print(\"The result is \", result)\n",
    "print(\"The total  is \", total)\n",
    "print(\"The percentage is \", per)\n",
    "\n",
    "\n"
   ]
  },
  {
   "cell_type": "code",
   "execution_count": null,
   "metadata": {},
   "outputs": [],
   "source": [
    "subject = input(\"Enter subject = \")\n",
    "value = int(input(\"Enter new marks = \"))\n",
    "i = int(input(\"Enter index = \"))\n",
    "d[i][subject] = value\n",
    "print(result)"
   ]
  },
  {
   "cell_type": "code",
   "execution_count": 22,
   "metadata": {},
   "outputs": [
    {
     "ename": "SyntaxError",
     "evalue": "invalid syntax (<ipython-input-22-3bec4affe8f1>, line 2)",
     "output_type": "error",
     "traceback": [
      "\u001b[1;36m  File \u001b[1;32m\"<ipython-input-22-3bec4affe8f1>\"\u001b[1;36m, line \u001b[1;32m2\u001b[0m\n\u001b[1;33m    a =  { \"Ram\":{\"physics\" 88, \"chemistry\": 45, \"math\": 65, \"nepali\": 65},\u001b[0m\n\u001b[1;37m                            ^\u001b[0m\n\u001b[1;31mSyntaxError\u001b[0m\u001b[1;31m:\u001b[0m invalid syntax\n"
     ]
    }
   ],
   "source": [
    "# dictionary inside dictionary \n",
    "a = {\"Ram\":{\"physics\" 88, \"chemistry\": 45, \"math\": 65, \"nepali\": 65},\n",
    "      \"Shyam\":{\"physics\": 45, \"chemistry\": 54, 'math': 45, \"nepali\": 56}}\n",
    "print(a[\"Ram\"])\n",
    "print(a[\"Shyam\"])"
   ]
  },
  {
   "cell_type": "code",
   "execution_count": 24,
   "metadata": {},
   "outputs": [
    {
     "name": "stdout",
     "output_type": "stream",
     "text": [
      "{'A': 'Apple'}\n",
      "{'A': ['Apple', 'Ant']}\n",
      "{('A', 'a'): 'Apple'}\n"
     ]
    }
   ],
   "source": [
    "a = {\"A\":\"Apple\"}\n",
    "b = {\"A\":[\"Apple\", \"Ant\"]}\n",
    "c = {(\"A\", \"a\"):\"Apple\"}     #tuple is imutable datatype\n",
    "  \n",
    "print(a)\n",
    "print(b)\n",
    "print(c)"
   ]
  },
  {
   "cell_type": "code",
   "execution_count": 1,
   "metadata": {},
   "outputs": [
    {
     "name": "stdout",
     "output_type": "stream",
     "text": [
      "Enter no of people = 2\n",
      "Enter name = Mobile\n",
      "Enter price = 10000\n",
      "Enter quantity = 2\n",
      "Enter name = Tv\n",
      "Enter price = 15000\n",
      "Enter quantity = 5\n",
      "The info is = \n",
      " {'Mobile': {'Price': 10000, 'Quantity': 2, 'Total': 20000}, 'Tv': {'Price': 15000, 'Quantity': 5, 'Total': 75000}}\n",
      "The total is =  95000\n"
     ]
    }
   ],
   "source": [
    "d = {}\n",
    "s = 0\n",
    "n = int(input(\"Enter no of people = \"))\n",
    "for i in range(n):\n",
    "    name = input(\"Enter name = \")\n",
    "    price = int(input(\"Enter price = \"))\n",
    "    quantity = int(input(\"Enter quantity = \"))\n",
    "    total = price*quantity\n",
    "    s = s+total\n",
    "    d[name] = {\"Price\":price,\n",
    "            \"Quantity\":quantity,\"Total\":total}\n",
    " \n",
    "print(\"The info is = \\n\",d)\n",
    "print(\"The total is = \",s)"
   ]
  },
  {
   "cell_type": "code",
   "execution_count": null,
   "metadata": {},
   "outputs": [],
   "source": []
  }
 ],
 "metadata": {
  "kernelspec": {
   "display_name": "Python 3",
   "language": "python",
   "name": "python3"
  },
  "language_info": {
   "codemirror_mode": {
    "name": "ipython",
    "version": 3
   },
   "file_extension": ".py",
   "mimetype": "text/x-python",
   "name": "python",
   "nbconvert_exporter": "python",
   "pygments_lexer": "ipython3",
   "version": "3.8.5"
  }
 },
 "nbformat": 4,
 "nbformat_minor": 4
}
