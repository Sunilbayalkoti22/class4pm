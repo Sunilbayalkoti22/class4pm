{
 "cells": [
  {
   "cell_type": "code",
   "execution_count": 2,
   "metadata": {},
   "outputs": [
    {
     "name": "stdout",
     "output_type": "stream",
     "text": [
      "3.141592653589793\n"
     ]
    }
   ],
   "source": [
    "# Math function\n",
    "\n",
    "import math as m\n",
    "print(m.pi)"
   ]
  },
  {
   "cell_type": "code",
   "execution_count": 2,
   "metadata": {},
   "outputs": [
    {
     "name": "stdout",
     "output_type": "stream",
     "text": [
      "Enter radius = 7\n",
      "the area is = 153.93804002589985\n"
     ]
    }
   ],
   "source": [
    "import math as m\n",
    "def area(r):\n",
    "    a=m.pi*m.pow(r,2)\n",
    "    return a \n",
    "\n",
    "r=float(input(\"Enter radius = \"))\n",
    " #ar = area(r)\n",
    "print(\"the area is =\", area(r))\n",
    "    "
   ]
  },
  {
   "cell_type": "code",
   "execution_count": 3,
   "metadata": {},
   "outputs": [
    {
     "name": "stdout",
     "output_type": "stream",
     "text": [
      "sin -- 1.0\n",
      "cos -- 6.123233995736766e-17\n",
      "tan -- 1.633123935319537e+16\n"
     ]
    }
   ],
   "source": [
    "a=m.pi/2\n",
    "print(\"sin --\",  m.sin(a))\n",
    "print(\"cos --\",  m.cos(a))\n",
    "print(\"tan --\",  m.tan(a))"
   ]
  },
  {
   "cell_type": "code",
   "execution_count": 12,
   "metadata": {},
   "outputs": [
    {
     "name": "stdout",
     "output_type": "stream",
     "text": [
      "0.5235987755982989\n"
     ]
    }
   ],
   "source": [
    "t = 0.5\n",
    "print(m.asin(t))"
   ]
  },
  {
   "cell_type": "code",
   "execution_count": 4,
   "metadata": {},
   "outputs": [
    {
     "name": "stdout",
     "output_type": "stream",
     "text": [
      "1.0\n"
     ]
    }
   ],
   "source": [
    "import math as m\n",
    "\n",
    "a = m.pi/2\n",
    "x = m.sin(a)\n",
    "y = m.cos(a)\n",
    "r = m.pow(x,2) + m.pow(y,2)\n",
    "print(r)"
   ]
  },
  {
   "cell_type": "code",
   "execution_count": null,
   "metadata": {},
   "outputs": [],
   "source": []
  }
 ],
 "metadata": {
  "kernelspec": {
   "display_name": "Python 3",
   "language": "python",
   "name": "python3"
  },
  "language_info": {
   "codemirror_mode": {
    "name": "ipython",
    "version": 3
   },
   "file_extension": ".py",
   "mimetype": "text/x-python",
   "name": "python",
   "nbconvert_exporter": "python",
   "pygments_lexer": "ipython3",
   "version": "3.8.5"
  }
 },
 "nbformat": 4,
 "nbformat_minor": 4
}
