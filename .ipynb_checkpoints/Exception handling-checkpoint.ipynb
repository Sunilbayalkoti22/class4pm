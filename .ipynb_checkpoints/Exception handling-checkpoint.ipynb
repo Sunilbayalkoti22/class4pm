{
 "cells": [
  {
   "cell_type": "code",
   "execution_count": 5,
   "metadata": {},
   "outputs": [
    {
     "name": "stdout",
     "output_type": "stream",
     "text": [
      "Enter age = ten\n",
      "Enter value in int\n"
     ]
    }
   ],
   "source": [
    "try:\n",
    "    a = int(input(\"Enter age = \"))\n",
    "except:\n",
    "    print(\"Enter value in int\")"
   ]
  },
  {
   "cell_type": "code",
   "execution_count": 7,
   "metadata": {},
   "outputs": [
    {
     "name": "stdout",
     "output_type": "stream",
     "text": [
      "Enter a = 10\n",
      "Enter b = 0\n",
      "Error\n"
     ]
    }
   ],
   "source": [
    "try:\n",
    "    a = int(input(\"Enter a = \"))\n",
    "    b = int(input(\"Enter b = \"))\n",
    "    c = a/b\n",
    "    print(c)\n",
    "except:\n",
    "    print(\"Error\")"
   ]
  },
  {
   "cell_type": "code",
   "execution_count": 9,
   "metadata": {},
   "outputs": [
    {
     "name": "stdout",
     "output_type": "stream",
     "text": [
      "Enter a = ten\n"
     ]
    },
    {
     "ename": "ValueError",
     "evalue": "invalid literal for int() with base 10: 'ten'",
     "output_type": "error",
     "traceback": [
      "\u001b[1;31m---------------------------------------------------------------------------\u001b[0m",
      "\u001b[1;31mValueError\u001b[0m                                Traceback (most recent call last)",
      "\u001b[1;32m<ipython-input-9-fe4ba219c4e7>\u001b[0m in \u001b[0;36m<module>\u001b[1;34m\u001b[0m\n\u001b[1;32m----> 1\u001b[1;33m \u001b[0ma\u001b[0m \u001b[1;33m=\u001b[0m \u001b[0mint\u001b[0m\u001b[1;33m(\u001b[0m\u001b[0minput\u001b[0m\u001b[1;33m(\u001b[0m\u001b[1;34m\"Enter a = \"\u001b[0m\u001b[1;33m)\u001b[0m\u001b[1;33m)\u001b[0m\u001b[1;33m\u001b[0m\u001b[1;33m\u001b[0m\u001b[0m\n\u001b[0m",
      "\u001b[1;31mValueError\u001b[0m: invalid literal for int() with base 10: 'ten'"
     ]
    }
   ],
   "source": [
    "    a = int(input(\"Enter a = \"))\n"
   ]
  },
  {
   "cell_type": "code",
   "execution_count": 10,
   "metadata": {},
   "outputs": [
    {
     "ename": "ZeroDivisionError",
     "evalue": "division by zero",
     "output_type": "error",
     "traceback": [
      "\u001b[1;31m---------------------------------------------------------------------------\u001b[0m",
      "\u001b[1;31mZeroDivisionError\u001b[0m                         Traceback (most recent call last)",
      "\u001b[1;32m<ipython-input-10-e574edb36883>\u001b[0m in \u001b[0;36m<module>\u001b[1;34m\u001b[0m\n\u001b[1;32m----> 1\u001b[1;33m \u001b[1;36m10\u001b[0m\u001b[1;33m/\u001b[0m\u001b[1;36m0\u001b[0m\u001b[1;33m\u001b[0m\u001b[1;33m\u001b[0m\u001b[0m\n\u001b[0m",
      "\u001b[1;31mZeroDivisionError\u001b[0m: division by zero"
     ]
    }
   ],
   "source": [
    "10/0"
   ]
  },
  {
   "cell_type": "code",
   "execution_count": 4,
   "metadata": {},
   "outputs": [
    {
     "name": "stdout",
     "output_type": "stream",
     "text": [
      "Enter a = 10\n",
      "Enter b = 0\n",
      "The value of b can not be zero\n"
     ]
    }
   ],
   "source": [
    "try:\n",
    "    a = int(input(\"Enter a = \"))\n",
    "    b = int(input(\"Enter b = \"))\n",
    "    c = a/b\n",
    "    print(c)\n",
    "except ZeroDivisionError :\n",
    "    print(\"The value of b can not be zero\")\n",
    "except ValueError:\n",
    "    print(\"The a and be must be int\")"
   ]
  },
  {
   "cell_type": "code",
   "execution_count": 3,
   "metadata": {},
   "outputs": [
    {
     "name": "stdout",
     "output_type": "stream",
     "text": [
      "Enter a = 10\n",
      "Enter b = 3\n",
      "The value of c =  3.3333333333333335\n"
     ]
    }
   ],
   "source": [
    "def cal():\n",
    "    try:\n",
    "        a = int(input(\"Enter a = \"))\n",
    "        b = int(input(\"Enter b = \"))\n",
    "        c = a/b\n",
    "        print(\"The value of c = \", c)\n",
    "    except ZeroDevisionError:\n",
    "        print(\"The value of b can not be zero\")\n",
    "        cal()\n",
    "    except ValueError:\n",
    "        print(\"The a and be must be int\")\n",
    "        cal()\n",
    "    \n",
    "cal()"
   ]
  },
  {
   "cell_type": "code",
   "execution_count": 5,
   "metadata": {},
   "outputs": [
    {
     "name": "stdout",
     "output_type": "stream",
     "text": [
      "Enter a = 10\n",
      "Enter b = 0\n",
      "The value of b can not be zero\n"
     ]
    }
   ],
   "source": [
    "try:\n",
    "    a = int(input(\"Enter a = \"))\n",
    "    b = int(input(\"Enter b = \"))\n",
    "    c = a/b\n",
    "    print(c)\n",
    "except ZeroDivisionError :\n",
    "    print(\"The value of b can not be zero\")\n",
    "except ValueError:\n",
    "    print(\"The a and be must be int\")\n",
    "else:\n",
    "    print(\"The value of c = \", c)"
   ]
  },
  {
   "cell_type": "code",
   "execution_count": 6,
   "metadata": {},
   "outputs": [
    {
     "name": "stdout",
     "output_type": "stream",
     "text": [
      "Enter a = 10\n",
      "Enter b = 5\n",
      "2.0\n",
      "The value of c =  2.0\n"
     ]
    }
   ],
   "source": [
    "try:\n",
    "    a = int(input(\"Enter a = \"))\n",
    "    b = int(input(\"Enter b = \"))\n",
    "    c = a/b\n",
    "    print(c)\n",
    "except ZeroDivisionError :\n",
    "    print(\"The value of b can not be zero\")\n",
    "except ValueError:\n",
    "    print(\"The a and be must be int\")\n",
    "else:\n",
    "    print(\"The value of c = \", c)"
   ]
  },
  {
   "cell_type": "code",
   "execution_count": 7,
   "metadata": {},
   "outputs": [
    {
     "name": "stdout",
     "output_type": "stream",
     "text": [
      "Enter a = 10\n",
      "Enter b = 5\n",
      "2.0\n",
      "The value of c =  2.0\n",
      "You are in finally block\n"
     ]
    }
   ],
   "source": [
    "try:\n",
    "    a = int(input(\"Enter a = \"))\n",
    "    b = int(input(\"Enter b = \"))\n",
    "    c = a/b\n",
    "    print(c)\n",
    "except ZeroDivisionError :\n",
    "    print(\"The value of b can not be zero\")\n",
    "except ValueError:\n",
    "    print(\"The a and be must be int\")\n",
    "else:\n",
    "    print(\"The value of c = \", c)\n",
    "finally:\n",
    "    print(\"You are in finally block\")   #run in every time "
   ]
  },
  {
   "cell_type": "code",
   "execution_count": 3,
   "metadata": {},
   "outputs": [
    {
     "ename": "SyntaxError",
     "evalue": "invalid syntax (<ipython-input-3-ac09ae23dafe>, line 7)",
     "output_type": "error",
     "traceback": [
      "\u001b[1;36m  File \u001b[1;32m\"<ipython-input-3-ac09ae23dafe>\"\u001b[1;36m, line \u001b[1;32m7\u001b[0m\n\u001b[1;33m    raise ZeroDivisionError:\u001b[0m\n\u001b[1;37m                           ^\u001b[0m\n\u001b[1;31mSyntaxError\u001b[0m\u001b[1;31m:\u001b[0m invalid syntax\n"
     ]
    }
   ],
   "source": [
    " try:\n",
    "    a = int(input(\"Enter a = \"))\n",
    "    b = int(input(\"Enter b = \"))\n",
    "    c = a/b\n",
    "    print(c)\n",
    "    if b == 0:\n",
    "        raise ZeroDivisionError:\n",
    "except ZeroDivisionError :\n",
    "    print(\"The value of b can not be zero\")\n",
    "else:\n",
    "    print(\"The value is = \", c)\n",
    "    "
   ]
  },
  {
   "cell_type": "code",
   "execution_count": 11,
   "metadata": {},
   "outputs": [
    {
     "name": "stdout",
     "output_type": "stream",
     "text": [
      "Enter name = Ram\n",
      "This is correct\n"
     ]
    }
   ],
   "source": [
    "try:\n",
    "    name = input(\"Enter name = \")\n",
    "    if name[0].isupper():\n",
    "        raise ZeroDivisionError      #raise is used for jump \n",
    "except ZeroDivisionError:\n",
    "        print(\"This is correct\")"
   ]
  },
  {
   "cell_type": "code",
   "execution_count": 4,
   "metadata": {},
   "outputs": [
    {
     "name": "stdout",
     "output_type": "stream",
     "text": [
      "b is smaller\n"
     ]
    }
   ],
   "source": [
    "a = 10\n",
    "b = 5\n",
    "assert b<a\n",
    "print(\"b is smaller\")"
   ]
  },
  {
   "cell_type": "code",
   "execution_count": 16,
   "metadata": {},
   "outputs": [
    {
     "name": "stdout",
     "output_type": "stream",
     "text": [
      "b is smaller\n"
     ]
    }
   ],
   "source": [
    "a = 10 \n",
    "b = 5\n",
    "\n",
    "try:\n",
    "    assert b<a\n",
    "    print(\"b is smaller\")\n",
    "except:\n",
    "    print(\"a is greater\")"
   ]
  },
  {
   "cell_type": "code",
   "execution_count": 20,
   "metadata": {},
   "outputs": [
    {
     "name": "stdout",
     "output_type": "stream",
     "text": [
      "Enter name = Ram\n",
      "This is try block\n",
      "Ram\n"
     ]
    }
   ],
   "source": [
    "try:\n",
    "    name = input(\"Enter name = \")\n",
    "    assert name[0].isupper()\n",
    "    print(\"This is try block\") \n",
    "    print(name)\n",
    "except:\n",
    "        print(\"This 0 index  alphabet should be capital letter\")"
   ]
  },
  {
   "cell_type": "code",
   "execution_count": 21,
   "metadata": {},
   "outputs": [
    {
     "name": "stdout",
     "output_type": "stream",
     "text": [
      "Enter name = ram\n",
      "This 0 index  alphabet should be capital letter\n"
     ]
    }
   ],
   "source": [
    "try:\n",
    "    name = input(\"Enter name = \")\n",
    "    assert name[0].isupper()\n",
    "    print(\"This is try block\") \n",
    "    print(name)\n",
    "except:\n",
    "        print(\"This 0 index  alphabet should be capital letter\")"
   ]
  },
  {
   "cell_type": "code",
   "execution_count": null,
   "metadata": {},
   "outputs": [
    {
     "name": "stdout",
     "output_type": "stream",
     "text": [
      "Enter username = admin\n",
      "username and password do not match\n",
      "Enter username = admin\n",
      "username and password do not match\n"
     ]
    }
   ],
   "source": [
    "un = \"admin\"\n",
    "pas = \"admin123\"\n",
    "c = 1\n",
    "def main():\n",
    "    global c\n",
    "    try:\n",
    "        a = int(input(\"Enter username = \"))\n",
    "        b = int(input(\"Enter password = \"))\n",
    "        assert ((a == un) & (b == pas))\n",
    "    except:\n",
    "        print(\"username and password do not match\")\n",
    "        c = c+1\n",
    "        main()\n",
    "    else:\n",
    "        print(\"You passed in following attempt\", c )\n",
    "    finally:\n",
    "        print(\"You are in finally block\")  \n",
    "main()"
   ]
  },
  {
   "cell_type": "code",
   "execution_count": null,
   "metadata": {},
   "outputs": [],
   "source": [
    "un = \"admin\"\n",
    "pas = \"admin123\"\n",
    "c = 1\n",
    "def main():\n",
    "    global c\n",
    "    try:\n",
    "        a = int(input(\"Enter username = \"))\n",
    "        b = int(input(\"Enter password = \")\n",
    "        assert ((a ==un) & (b ==pas))\n",
    "        if (c<=5):\n",
    "                raise ZeroDivisionError\n",
    "                \n",
    "    except AssertionError:\n",
    "           print(\"Error\")\n",
    "           c = c+1\n",
    "           main()     \n",
    "    except:ZeroDivisionError:\n",
    "                print(\"You entered more than 5 times\")\n",
    "        \n",
    "    \n",
    "    else:\n",
    "        print(\"You passed in following attempt\", c )\n",
    "    finally:\n",
    "        print(\"You are in finally block\")  \n",
    "main()"
   ]
  },
  {
   "cell_type": "code",
   "execution_count": null,
   "metadata": {},
   "outputs": [],
   "source": [
    "un = \"admin\"\n",
    "pas = \"admin123\"\n",
    "try:\n",
    "    a = int(input(\"Enter username = \"))\n",
    "    b = int(input(\"Enter password = \"))\n",
    "   \n",
    "    \n",
    "except:\n",
    "    print(\"username and password do not match\")\n",
    "\n",
    "else:\n",
    "    print(\"You are loged in\")\n",
    "finally:\n",
    "    print(\"You are in finally block\")"
   ]
  }
 ],
 "metadata": {
  "kernelspec": {
   "display_name": "Python 3",
   "language": "python",
   "name": "python3"
  },
  "language_info": {
   "codemirror_mode": {
    "name": "ipython",
    "version": 3
   },
   "file_extension": ".py",
   "mimetype": "text/x-python",
   "name": "python",
   "nbconvert_exporter": "python",
   "pygments_lexer": "ipython3",
   "version": "3.8.5"
  }
 },
 "nbformat": 4,
 "nbformat_minor": 4
}
