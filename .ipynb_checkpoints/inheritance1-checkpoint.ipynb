{
 "cells": [
  {
   "cell_type": "code",
   "execution_count": 1,
   "metadata": {},
   "outputs": [
    {
     "name": "stdout",
     "output_type": "stream",
     "text": [
      "Ram\n",
      "45\n",
      "kathmandu\n"
     ]
    }
   ],
   "source": [
    "# public members\n",
    "class info:\n",
    "    def __init__(self,name,age,add):\n",
    "        self.name = name \n",
    "        self.age = age\n",
    "        self.add = add\n",
    "        \n",
    "obj = info(\"Ram\", 45, \"kathmandu\")\n",
    "print(obj.name)\n",
    "print(obj.age)\n",
    "print(obj.add)"
   ]
  },
  {
   "cell_type": "code",
   "execution_count": 2,
   "metadata": {},
   "outputs": [
    {
     "name": "stdout",
     "output_type": "stream",
     "text": [
      "Ram\n",
      "45\n",
      "kathmandu\n"
     ]
    }
   ],
   "source": [
    "# protected members   (always remember to use _ in protected)\n",
    "class info:\n",
    "    def __init__(self,name,age,add):\n",
    "        self._name = name \n",
    "        self._age = age\n",
    "        self._add = add\n",
    "        \n",
    "obj = info(\"Ram\", 45, \"kathmandu\")\n",
    "print(obj._name)\n",
    "print(obj._age)\n",
    "print(obj._add)"
   ]
  },
  {
   "cell_type": "code",
   "execution_count": 4,
   "metadata": {},
   "outputs": [
    {
     "name": "stdout",
     "output_type": "stream",
     "text": [
      "Ram\n",
      "45\n",
      "kathmandu\n"
     ]
    }
   ],
   "source": [
    "# private members  (always remember to use __ in protected) double \n",
    "class info:\n",
    "    def __init__(self,name,age,add):    \n",
    "        self.__name = name \n",
    "        self.__age = age\n",
    "        self.__add = add\n",
    "        \n",
    "obj = info(\"Ram\", 45, \"kathmandu\")\n",
    "print(obj._info__name)  # this is name mangling\n",
    "print(obj._info__age)\n",
    "print(obj._info__add)"
   ]
  },
  {
   "cell_type": "code",
   "execution_count": 7,
   "metadata": {},
   "outputs": [
    {
     "name": "stdout",
     "output_type": "stream",
     "text": [
      "Hello i am Ram.I am from Kathmandu.My phone number is 98373746464\n"
     ]
    }
   ],
   "source": [
    "class Info:\n",
    "    def __init__(self,name,add,phone):\n",
    "        self._name = name\n",
    "        self.add = add\n",
    "        self.__phone = phone\n",
    "\n",
    "class Hr(Info):\n",
    "    def hr(self):\n",
    "        print(f\"Hello i am {self._name}.I am from {self.add}.My phone number is {self._Info__phone}\")\n",
    "        \n",
    "    \n",
    "\n",
    "obj = Hr(\"Ram\", \"Kathmandu\",98373746464)\n",
    "obj.hr()\n"
   ]
  },
  {
   "cell_type": "code",
   "execution_count": 12,
   "metadata": {},
   "outputs": [
    {
     "name": "stdout",
     "output_type": "stream",
     "text": [
      "Hello i am Ram.I am from Kathmandu\n",
      "Kathmandu\n"
     ]
    }
   ],
   "source": [
    "class Info:\n",
    "    def __init__(self,add):\n",
    "         self.__add = add\n",
    "  \n",
    "    def info(self):\n",
    "        print(self.__add) #private class only use it's attribute in this class only\n",
    "class Office(Info):\n",
    "    def __init__(self,name):\n",
    "        self.name = name\n",
    "        \n",
    "class Hr(Office):\n",
    "    def __init__(self,name,add):\n",
    "        Info. __init__(self,add)\n",
    "        Office. __init__(self,name)\n",
    "        \n",
    "        \n",
    "    def hr(self):\n",
    "        print(f\"Hello i am {self.name}.I am from {self._Info__add}\")\n",
    "        \n",
    "    \n",
    "\n",
    "obj = Hr(\"Ram\", \"Kathmandu\")\n",
    "obj.hr()\n",
    "obj.info()"
   ]
  },
  {
   "cell_type": "code",
   "execution_count": 13,
   "metadata": {},
   "outputs": [
    {
     "name": "stdout",
     "output_type": "stream",
     "text": [
      "Hello i am Ram.I am from Kathmandu\n"
     ]
    },
    {
     "data": {
      "text/plain": [
       "'Kathmandu'"
      ]
     },
     "execution_count": 13,
     "metadata": {},
     "output_type": "execute_result"
    }
   ],
   "source": [
    "class Info:\n",
    "    def __init__(self,add):\n",
    "         self.__add = add\n",
    "  \n",
    "    def info(self):\n",
    "        return self.__add #private class only use it's attribute in this class only\n",
    "class Office(Info):\n",
    "    def __init__(self,name):\n",
    "        self.name = name\n",
    "        \n",
    "class Hr(Office):\n",
    "    def __init__(self,name,add):\n",
    "        Info. __init__(self,add)\n",
    "        Office. __init__(self,name)\n",
    "        \n",
    "        \n",
    "    def hr(self):\n",
    "        print(f\"Hello i am {self.name}.I am from {super().info()}\")\n",
    "        \n",
    "    \n",
    "\n",
    "obj = Hr(\"Ram\", \"Kathmandu\")\n",
    "obj.hr()\n",
    "obj.info()"
   ]
  },
  {
   "cell_type": "code",
   "execution_count": 5,
   "metadata": {},
   "outputs": [
    {
     "name": "stdout",
     "output_type": "stream",
     "text": [
      "Hello i am Ram.I am from Kathmandu. My secret phone no is 98373747474\n"
     ]
    }
   ],
   "source": [
    "class Info:\n",
    "    def __init__(self,add):\n",
    "         self.add = add\n",
    "            \n",
    "#     def myphone(self):\n",
    "#         print(self.phone)\n",
    "\n",
    "class Office():\n",
    "    def __init__(self,name):\n",
    "        self.name = name\n",
    "        \n",
    "class Hr(Office,Info):\n",
    "    def __init__(self,name,add,phone):\n",
    "        Info. __init__(self,add)\n",
    "        Office. __init__(self,name)\n",
    "        self.__phone = phone\n",
    "        \n",
    "    def hr(self):\n",
    "        print(f\"Hello i am {self.name}.I am from {self.add}. My secret phone no is {self.__phone}\")\n",
    "        \n",
    "    \n",
    "\n",
    "obj = Hr(\"Ram\", \"Kathmandu\", 98373747474)\n",
    "obj.hr()"
   ]
  },
  {
   "cell_type": "code",
   "execution_count": null,
   "metadata": {},
   "outputs": [],
   "source": [
    " "
   ]
  }
 ],
 "metadata": {
  "kernelspec": {
   "display_name": "Python 3",
   "language": "python",
   "name": "python3"
  },
  "language_info": {
   "codemirror_mode": {
    "name": "ipython",
    "version": 3
   },
   "file_extension": ".py",
   "mimetype": "text/x-python",
   "name": "python",
   "nbconvert_exporter": "python",
   "pygments_lexer": "ipython3",
   "version": "3.8.5"
  }
 },
 "nbformat": 4,
 "nbformat_minor": 4
}
