{
 "cells": [
  {
   "cell_type": "code",
   "execution_count": 3,
   "metadata": {},
   "outputs": [
    {
     "name": "stdout",
     "output_type": "stream",
     "text": [
      "Hello i am Ram.I am from Kathmandu\n",
      "Shyam Patan\n"
     ]
    }
   ],
   "source": [
    "class Info:\n",
    "    def __init__(self,name,add):\n",
    "        self.name = name\n",
    "        self.add = add\n",
    "\n",
    "\n",
    "class Hr(Info):\n",
    "    def hr(self):\n",
    "        print(f\"Hello i am {self.name}.I am from {self.add}\")\n",
    "        \n",
    "    \n",
    "\n",
    "obj = Hr(\"Ram\", \"Kathmandu\")\n",
    "obj.hr()\n",
    "obj1 = Info(\"Shyam\", \"Patan\")\n",
    "print(obj1.name,obj1.add)"
   ]
  },
  {
   "cell_type": "code",
   "execution_count": null,
   "metadata": {},
   "outputs": [],
   "source": [
    "#share one class to another class"
   ]
  },
  {
   "cell_type": "code",
   "execution_count": 8,
   "metadata": {},
   "outputs": [
    {
     "name": "stdout",
     "output_type": "stream",
     "text": [
      "This is class A\n",
      "This is class B\n",
      "This is class C\n"
     ]
    }
   ],
   "source": [
    "class A:\n",
    "    print(\"This is class A\")\n",
    "class B(A):\n",
    "    print(\"This is class B\")\n",
    "class C(B):\n",
    "    print(\"This is class C\")\n",
    "    \n",
    "obj = C()"
   ]
  },
  {
   "cell_type": "code",
   "execution_count": 13,
   "metadata": {},
   "outputs": [
    {
     "name": "stdout",
     "output_type": "stream",
     "text": [
      "This is class A\n",
      "This is class B\n",
      "This is class A\n",
      "This is class C\n",
      "This is class B\n",
      "This is class A\n"
     ]
    }
   ],
   "source": [
    "class A:\n",
    "    def a(self):\n",
    "        print(\"This is class A\")\n",
    "class B(A):\n",
    "    def b(self):\n",
    "        print(\"This is class B\")\n",
    "        super().a()\n",
    "class C(B):\n",
    "    def c(self):\n",
    "        print(\"This is class C\")\n",
    "        super().b()\n",
    "    \n",
    "obj = C()\n",
    "obj.a()\n",
    "obj.b()\n",
    "obj.c()"
   ]
  },
  {
   "cell_type": "code",
   "execution_count": 15,
   "metadata": {},
   "outputs": [
    {
     "name": "stdout",
     "output_type": "stream",
     "text": [
      "Hello i am Ram.I am from Kathmandu\n"
     ]
    }
   ],
   "source": [
    "class Info:\n",
    "    def __init__(self,name,add):\n",
    "        self.name = name\n",
    "        self.add = add\n",
    "\n",
    "    def info(self):\n",
    "        print(f\"Hello i am {self.name}.I am from {self.add}\")\n",
    "class Hr(Info):\n",
    "    def hr(self):\n",
    "        super().info()\n",
    "        \n",
    "    \n",
    "\n",
    "obj = Hr(\"Ram\", \"Kathmandu\")\n",
    "obj.hr()\n"
   ]
  },
  {
   "cell_type": "code",
   "execution_count": 21,
   "metadata": {},
   "outputs": [
    {
     "name": "stdout",
     "output_type": "stream",
     "text": [
      "Hello i am Ram.I am from Kathmandu\n"
     ]
    }
   ],
   "source": [
    "class Info:\n",
    "    def __init__(self,add):\n",
    "         self.add = add\n",
    "\n",
    "class Office():\n",
    "    def __init__(self,name):\n",
    "        self.name = name\n",
    "        \n",
    "class Hr(Office,Info):\n",
    "    def __init__(self,name,add):\n",
    "        Info. __init__(self,add)\n",
    "        Office. __init__(self,name)\n",
    "        \n",
    "        \n",
    "    def hr(self):\n",
    "        print(f\"Hello i am {self.name}.I am from {self.add}\")\n",
    "        \n",
    "    \n",
    "\n",
    "obj = Hr(\"Ram\", \"Kathmandu\")\n",
    "obj.hr()\n"
   ]
  },
  {
   "cell_type": "code",
   "execution_count": 22,
   "metadata": {},
   "outputs": [
    {
     "name": "stdout",
     "output_type": "stream",
     "text": [
      "Hello i am Ram.I am from Kathmandu\n"
     ]
    }
   ],
   "source": [
    "class Info:\n",
    "    def __init__(self,add):\n",
    "         self.add = add\n",
    "\n",
    "class Office():\n",
    "    def __init__(self,name):\n",
    "        self.name = name\n",
    "        \n",
    "class Hr(Office,Info):\n",
    "    def __init__(self,name,add,phone):\n",
    "        Info. __init__(self,add)\n",
    "        Office. __init__(self,name)\n",
    "        self.phone = phone\n",
    "        \n",
    "    def hr(self):\n",
    "        print(f\"Hello i am {self.name}.I am from {self.add}\")\n",
    "        \n",
    "    \n",
    "\n",
    "obj = Hr(\"Ram\", \"Kathmandu\", 98373747474)\n",
    "obj.hr()\n"
   ]
  },
  {
   "cell_type": "code",
   "execution_count": 27,
   "metadata": {},
   "outputs": [
    {
     "name": "stdout",
     "output_type": "stream",
     "text": [
      "Hello i am Ram. I am from Kathmandu.My number is 9837477474\n"
     ]
    }
   ],
   "source": [
    "class Info:\n",
    "    def __init__(self,add):\n",
    "         self.add = add\n",
    "    def address(self):\n",
    "        return f\"I am from {self.add}\"\n",
    "        \n",
    "class Office:\n",
    "    def __init__(self,name):\n",
    "        self.name = name\n",
    "    def name(self):\n",
    "        return f\"Hello i am {self.name}.\"\n",
    "class Hr(Office,Info):\n",
    "    def __init__(self,name,add,phone):\n",
    "        Info. __init__(self,add)\n",
    "        Office. __init__(self,name)\n",
    "        self.phone = phone\n",
    "\n",
    "    def hr(self):\n",
    "        print(f\"{super().name()} {super().address()}.My number is {self.phone}\")\n",
    "        \n",
    "    \n",
    "\n",
    "obj = Hr(\"Ram\", \"Kathmandu\",9837477474)\n",
    "obj.hr()\n"
   ]
  },
  {
   "cell_type": "code",
   "execution_count": 31,
   "metadata": {},
   "outputs": [
    {
     "name": "stdout",
     "output_type": "stream",
     "text": [
      "Ram\n",
      "2\n"
     ]
    }
   ],
   "source": [
    "class person:\n",
    "    #defining constructor\n",
    "    def __init__(self,personName,personAge):\n",
    "        self.name = personName\n",
    "        self.age = personAge\n",
    "        #defining class method\n",
    "    def showName(self):\n",
    "        print(self.name)\n",
    "    def showAge(self):\n",
    "        print(self.age)\n",
    "class student: #person is the \n",
    "    def __init__(self,studentId):\n",
    "        self.studentId  = studentId\n",
    "    def getId(self):\n",
    "        return self.studentId\n",
    "class Resident(person, student): #extends both person and student class\n",
    "    def __init__(self,name,age,id):\n",
    "        person. __init__(self,name,age)\n",
    "        student.__init__(self,id)\n",
    "        #create on object of the subclass\n",
    "        \n",
    "resident1 = Resident('Ram', 25,'2')\n",
    "resident1.showName()\n",
    "print(resident1.getId())\n",
    "\n",
    "\n",
    "        \n",
    "        "
   ]
  },
  {
   "cell_type": "code",
   "execution_count": null,
   "metadata": {},
   "outputs": [],
   "source": []
  }
 ],
 "metadata": {
  "kernelspec": {
   "display_name": "Python 3",
   "language": "python",
   "name": "python3"
  },
  "language_info": {
   "codemirror_mode": {
    "name": "ipython",
    "version": 3
   },
   "file_extension": ".py",
   "mimetype": "text/x-python",
   "name": "python",
   "nbconvert_exporter": "python",
   "pygments_lexer": "ipython3",
   "version": "3.8.5"
  }
 },
 "nbformat": 4,
 "nbformat_minor": 4
}
