{
 "cells": [
  {
   "cell_type": "code",
   "execution_count": 1,
   "metadata": {},
   "outputs": [],
   "source": [
    "# List\n",
    "# - Mutable   ,changable\n",
    "# - Ordered \n",
    "# - It follows indexing\n",
    "# - Allow duplicated members"
   ]
  },
  {
   "cell_type": "code",
   "execution_count": 3,
   "metadata": {},
   "outputs": [
    {
     "name": "stdout",
     "output_type": "stream",
     "text": [
      "['Apple', 'Ball']\n",
      "<class 'list'>\n"
     ]
    }
   ],
   "source": [
    "a = [\"Apple\",\"Ball\"]\n",
    "b = [1,2,3,4,5]\n",
    "print(a)\n",
    "print(type(b))"
   ]
  },
  {
   "cell_type": "code",
   "execution_count": 4,
   "metadata": {},
   "outputs": [
    {
     "name": "stdout",
     "output_type": "stream",
     "text": [
      "Apple\n"
     ]
    }
   ],
   "source": [
    "a = [\"Apple\",\"Ball\"]\n",
    "print(a[0])"
   ]
  },
  {
   "cell_type": "code",
   "execution_count": 5,
   "metadata": {},
   "outputs": [
    {
     "name": "stdout",
     "output_type": "stream",
     "text": [
      "Ball\n"
     ]
    }
   ],
   "source": [
    "print(a[-1])    #from beginning 0,1,2,...  from ending -1,-2,-3,....."
   ]
  },
  {
   "cell_type": "code",
   "execution_count": 6,
   "metadata": {},
   "outputs": [
    {
     "name": "stdout",
     "output_type": "stream",
     "text": [
      "['Apple', 'Ball', 'cat']\n"
     ]
    }
   ],
   "source": [
    "a = [\"Apple\",\"Ball\",\"cat\",\"Dog\",\"Fish\"]   #indexing\n",
    "print(a[0:3])"
   ]
  },
  {
   "cell_type": "code",
   "execution_count": 7,
   "metadata": {},
   "outputs": [
    {
     "name": "stdout",
     "output_type": "stream",
     "text": [
      "['Apple', 'Dog']\n"
     ]
    }
   ],
   "source": [
    "a = [\"Apple\",\"Ball\",\"cat\",\"Dog\",\"Fish\"]\n",
    "print(a[0:5:3])"
   ]
  },
  {
   "cell_type": "code",
   "execution_count": 8,
   "metadata": {},
   "outputs": [
    {
     "name": "stdout",
     "output_type": "stream",
     "text": [
      "['Apple', 'Ball']\n"
     ]
    }
   ],
   "source": [
    "#order \n",
    "\n",
    "a = [\"Apple\"]\n",
    "b = [\"Ball\"]\n",
    "print(a+b)"
   ]
  },
  {
   "cell_type": "code",
   "execution_count": 9,
   "metadata": {},
   "outputs": [
    {
     "name": "stdout",
     "output_type": "stream",
     "text": [
      "['Apple', 'Ball', 'cat', 'Apple', 'Ball', 'cat']\n"
     ]
    }
   ],
   "source": [
    "a = [\"Apple\",\"Ball\",\"cat\"]\n",
    "print(a*2)"
   ]
  },
  {
   "cell_type": "code",
   "execution_count": 10,
   "metadata": {},
   "outputs": [
    {
     "name": "stdout",
     "output_type": "stream",
     "text": [
      "0\n",
      "1\n",
      "2\n",
      "3\n",
      "4\n"
     ]
    }
   ],
   "source": [
    "for i in range(5):\n",
    "    print(i,)"
   ]
  },
  {
   "cell_type": "code",
   "execution_count": 11,
   "metadata": {},
   "outputs": [
    {
     "name": "stdout",
     "output_type": "stream",
     "text": [
      "['apple']\n"
     ]
    }
   ],
   "source": [
    "a = \"apple\"\n",
    "b = [a]\n",
    "print(b)"
   ]
  },
  {
   "cell_type": "code",
   "execution_count": 12,
   "metadata": {},
   "outputs": [
    {
     "name": "stdout",
     "output_type": "stream",
     "text": [
      "['Ram']\n"
     ]
    }
   ],
   "source": [
    "a = []\n",
    "b = \"Ram\"\n",
    "print(a+[b])"
   ]
  },
  {
   "cell_type": "code",
   "execution_count": 13,
   "metadata": {},
   "outputs": [
    {
     "name": "stdout",
     "output_type": "stream",
     "text": [
      "Enter n = 2\n",
      "Enter name = Ram \n",
      "Enter name = Shyam\n",
      "['Ram ', 'Shyam']\n"
     ]
    }
   ],
   "source": [
    "a = []\n",
    "n = int(input(\"Enter n = \"))\n",
    "for i in range(n):\n",
    "    name = input(\"Enter name = \")\n",
    "    a = a+[name]\n",
    "print"
   ]
  },
  {
   "cell_type": "markdown",
   "metadata": {},
   "source": [
    " \n",
    "a = []\n",
    "n = int(input(\"Enter n = \"))\n",
    "for i in range (n):\n",
    "    x = int(input(\"Enter x = \"))\n",
    "    a = a+[x]\n",
    "    \n",
    "print(\"The list is =\", a)\n",
    "print(\"the max value is = \", max(a))\n",
    "print(\"the min value is = \", min(a))\n",
    "print(\"The sum is = \", sum(a))\n",
    "print(\"the average = \" , sum(a)/n)"
   ]
  },
  {
   "cell_type": "code",
   "execution_count": 2,
   "metadata": {},
   "outputs": [
    {
     "name": "stdout",
     "output_type": "stream",
     "text": [
      "Enter n = 5\n",
      "Enter x = 10 \n",
      "Enter x = 20\n",
      "Enter x = 30\n",
      "Enter x = 40 \n",
      "Enter x = 50 \n",
      "The list is = [10, 20, 30, 40, 50]\n",
      "the max value is =  50\n",
      "the min value is =  10\n",
      "The sum is =  150\n",
      "the average =  30.0\n"
     ]
    }
   ],
   "source": [
    "a = [] \n",
    "n = int(input(\"Enter n = \"))\n",
    "for i in range (n):\n",
    "    x = int(input(\"Enter x = \"))\n",
    "    a = a+[x]\n",
    "\n",
    "print(\"The list is =\", a)\n",
    "print(\"the max value is = \", max(a))\n",
    "print(\"the min value is = \", min(a)) \n",
    "print(\"The sum is = \", sum(a)) \n",
    "print(\"the average = \", sum(a)/n)"
   ]
  },
  {
   "cell_type": "code",
   "execution_count": 3,
   "metadata": {},
   "outputs": [
    {
     "data": {
      "text/plain": [
       "[10, 20, 30, 40, 50]"
      ]
     },
     "execution_count": 3,
     "metadata": {},
     "output_type": "execute_result"
    }
   ],
   "source": [
    "a"
   ]
  },
  {
   "cell_type": "code",
   "execution_count": 3,
   "metadata": {},
   "outputs": [],
   "source": [
    "a = [\"zebra\", \"xray\", \"1ball\", \"@fish\"]\n",
    "a.sort()"
   ]
  },
  {
   "cell_type": "code",
   "execution_count": 5,
   "metadata": {},
   "outputs": [
    {
     "data": {
      "text/plain": [
       "['1ball', '@fish', 'xray', 'zebra']"
      ]
     },
     "execution_count": 5,
     "metadata": {},
     "output_type": "execute_result"
    }
   ],
   "source": [
    "a"
   ]
  },
  {
   "cell_type": "code",
   "execution_count": 13,
   "metadata": {},
   "outputs": [
    {
     "name": "stdout",
     "output_type": "stream",
     "text": [
      "['Zebra', 'ball', 'fish', 'xray']\n"
     ]
    }
   ],
   "source": [
    "a = [\"Zebra\", \"xray\", \"ball\", \"fish\"]\n",
    "a.sort()\n",
    "print(a)"
   ]
  },
  {
   "cell_type": "code",
   "execution_count": 7,
   "metadata": {},
   "outputs": [
    {
     "name": "stdout",
     "output_type": "stream",
     "text": [
      "[50, 40, 30, 20, 10]\n"
     ]
    }
   ],
   "source": [
    "a = [10, 20, 30, 40, 50]\n",
    "a.sort()\n",
    "a.reverse()\n",
    "print(a)"
   ]
  },
  {
   "cell_type": "code",
   "execution_count": 10,
   "metadata": {},
   "outputs": [
    {
     "name": "stdout",
     "output_type": "stream",
     "text": [
      "zebra\n",
      "xray\n",
      "ball\n",
      "fish\n"
     ]
    }
   ],
   "source": [
    "a = [\"Zebra\", \"xray\", \"ball\", \"fish\"]\n",
    "for i in a:\n",
    "    print(i)"
   ]
  },
  {
   "cell_type": "code",
   "execution_count": 11,
   "metadata": {},
   "outputs": [
    {
     "data": {
      "text/plain": [
       "4"
      ]
     },
     "execution_count": 11,
     "metadata": {},
     "output_type": "execute_result"
    }
   ],
   "source": [
    "len(a)"
   ]
  },
  {
   "cell_type": "code",
   "execution_count": 17,
   "metadata": {},
   "outputs": [
    {
     "name": "stdout",
     "output_type": "stream",
     "text": [
      "Zebra\n",
      "xray\n",
      "ball\n",
      "fish\n"
     ]
    }
   ],
   "source": [
    "a = [\"Zebra\", \"xray\", \"ball\", \"fish\"]\n",
    "n = len(a)\n",
    "for i in range(n):\n",
    "    print(a[i])"
   ]
  },
  {
   "cell_type": "code",
   "execution_count": 20,
   "metadata": {},
   "outputs": [
    {
     "name": "stdout",
     "output_type": "stream",
     "text": [
      "Zebra\n",
      "xray\n"
     ]
    }
   ],
   "source": [
    "a = [\"Zebra\", \"xray\", \"ball\", \"fish\"]\n",
    "for i in a:\n",
    "    if i == \"ball\":\n",
    "        break\n",
    "    print(i)"
   ]
  },
  {
   "cell_type": "code",
   "execution_count": 21,
   "metadata": {},
   "outputs": [
    {
     "name": "stdout",
     "output_type": "stream",
     "text": [
      "Zebra\n",
      "xray\n",
      "fish\n"
     ]
    }
   ],
   "source": [
    "a = [\"Zebra\", \"xray\", \"ball\", \"fish\"]\n",
    "for i in a:\n",
    "    if i == \"ball\":\n",
    "        continue\n",
    "    print(i)"
   ]
  },
  {
   "cell_type": "code",
   "execution_count": 22,
   "metadata": {},
   "outputs": [
    {
     "name": "stdout",
     "output_type": "stream",
     "text": [
      "Yes 2\n"
     ]
    }
   ],
   "source": [
    "a = [\"Zebra\", \"xray\", \"ball\", \"fish\", \"ball\"]\n",
    "if \"ball\"in a:\n",
    "    print(\"Yes\", a.count(\"ball\"))"
   ]
  },
  {
   "cell_type": "code",
   "execution_count": 5,
   "metadata": {},
   "outputs": [
    {
     "name": "stdout",
     "output_type": "stream",
     "text": [
      "['Apple']\n"
     ]
    }
   ],
   "source": [
    "a = list()\n",
    "a.append(\"Apple\")      #add variable in blank \n",
    "print(a)"
   ]
  },
  {
   "cell_type": "code",
   "execution_count": 28,
   "metadata": {},
   "outputs": [
    {
     "name": "stdout",
     "output_type": "stream",
     "text": [
      "Enter n = 2\n",
      "Enter name = Ram \n",
      "Enter name = Shyam\n",
      "['Ram ', 'Shyam']\n"
     ]
    }
   ],
   "source": [
    "a = []\n",
    "n = int(input(\"Enter n = \"))\n",
    "for i in range(n):\n",
    "    name = input(\"Enter name = \")\n",
    "    a.append(name)\n",
    "print(a)"
   ]
  },
  {
   "cell_type": "code",
   "execution_count": 29,
   "metadata": {},
   "outputs": [
    {
     "name": "stdout",
     "output_type": "stream",
     "text": [
      "['Zebra', 'xray', 'Bag', 'ball', 'fish']\n"
     ]
    }
   ],
   "source": [
    "a = [\"Zebra\", \"xray\", \"ball\", \"fish\"] #insert add value in middle part \n",
    "a.insert(2,\"Bag\")\n",
    "print(a)\n"
   ]
  },
  {
   "cell_type": "code",
   "execution_count": 30,
   "metadata": {},
   "outputs": [
    {
     "name": "stdout",
     "output_type": "stream",
     "text": [
      "['Zebra', 'Xrey', 'ball', 'fish']\n"
     ]
    }
   ],
   "source": [
    "a = [\"Zebra\", \"xray\", \"ball\", \"fish\"]  # edit the value from list \n",
    "a[1] = 'Xrey' \n",
    "print(a)"
   ]
  },
  {
   "cell_type": "code",
   "execution_count": 31,
   "metadata": {},
   "outputs": [
    {
     "name": "stdout",
     "output_type": "stream",
     "text": [
      "['xray', 'ball', 'fish']\n"
     ]
    }
   ],
   "source": [
    "a = [\"Zebra\", \"xray\", \"ball\", \"fish\"]  #delete value from the list \n",
    "del a[0]\n",
    "print(a)"
   ]
  },
  {
   "cell_type": "code",
   "execution_count": 33,
   "metadata": {},
   "outputs": [
    {
     "name": "stdout",
     "output_type": "stream",
     "text": [
      "['fish']\n"
     ]
    }
   ],
   "source": [
    "a = [\"Zebra\", \"xray\", \"ball\", \"fish\"]  #delete value from the list \n",
    "del a[0:3]\n",
    "print(a)"
   ]
  },
  {
   "cell_type": "code",
   "execution_count": 34,
   "metadata": {},
   "outputs": [
    {
     "name": "stdout",
     "output_type": "stream",
     "text": [
      "['xray', 'fish']\n"
     ]
    }
   ],
   "source": [
    "a = [\"Zebra\", \"xray\", \"ball\", \"fish\"]  #delete value from the list \n",
    "del a[0:4:2]\n",
    "print(a)"
   ]
  },
  {
   "cell_type": "code",
   "execution_count": 36,
   "metadata": {},
   "outputs": [
    {
     "data": {
      "text/plain": [
       "2"
      ]
     },
     "execution_count": 36,
     "metadata": {},
     "output_type": "execute_result"
    }
   ],
   "source": [
    "a = [\"Zebra\", \"xray\", \"ball\", \"fish\"] #find index\n",
    "a.index(\"ball\")"
   ]
  },
  {
   "cell_type": "code",
   "execution_count": 37,
   "metadata": {},
   "outputs": [
    {
     "name": "stdout",
     "output_type": "stream",
     "text": [
      "['Zebra', 'xray', 'fish']\n"
     ]
    }
   ],
   "source": [
    "a = [\"Zebra\", \"xray\", \"ball\", \"fish\"] #another type of delete\n",
    "a.remove(\"ball\")\n",
    "print(a)"
   ]
  },
  {
   "cell_type": "code",
   "execution_count": 41,
   "metadata": {},
   "outputs": [
    {
     "name": "stdout",
     "output_type": "stream",
     "text": [
      "xray\n"
     ]
    }
   ],
   "source": [
    "a = [\"Zebra\", \"xray\", \"ball\", \"fish\"] #delete and show the delete value \n",
    "b = a.pop(1)\n",
    "print(b)"
   ]
  },
  {
   "cell_type": "code",
   "execution_count": 42,
   "metadata": {},
   "outputs": [
    {
     "name": "stdout",
     "output_type": "stream",
     "text": [
      "xray\n",
      "['Zebra', 'ball', 'fish']\n"
     ]
    }
   ],
   "source": [
    "a = [\"Zebra\", \"xray\", \"ball\", \"fish\"] #delete and show the delete value \n",
    "b = a.pop(1)\n",
    "print(b)\n",
    "print(a)"
   ]
  },
  {
   "cell_type": "code",
   "execution_count": 44,
   "metadata": {},
   "outputs": [
    {
     "name": "stdout",
     "output_type": "stream",
     "text": [
      "['Zebra', 'xray', 'fish']\n"
     ]
    }
   ],
   "source": [
    "a = [\"Zebra\", \"xray\", \"ball\", \"fish\", \"ball\"]   #delete all value \n",
    "n = a.count(\"ball\")\n",
    "for i in range(n):\n",
    "     a.remove(\"ball\")\n",
    "print(a)"
   ]
  },
  {
   "cell_type": "code",
   "execution_count": 45,
   "metadata": {},
   "outputs": [
    {
     "name": "stdout",
     "output_type": "stream",
     "text": [
      "['Zebra', 'xray', 'fish', 'ball']\n"
     ]
    }
   ],
   "source": [
    "a = [\"Zebra\", \"xray\", \"ball\", \"fish\", \"ball\",\"ball\"]   #1 value there other delete\n",
    "n = a.count(\"ball\")\n",
    "for i in range(n-1):\n",
    "     a.remove(\"ball\")\n",
    "print(a)"
   ]
  },
  {
   "cell_type": "code",
   "execution_count": 46,
   "metadata": {},
   "outputs": [
    {
     "name": "stdout",
     "output_type": "stream",
     "text": [
      "2\n",
      "2\n",
      "2\n"
     ]
    }
   ],
   "source": [
    "a = [\"Zebra\", \"xray\", \"ball\", \"fish\", \"ball\",\"ball\"] \n",
    "for i in a:\n",
    "     if i == \"ball\":\n",
    "        n = a.index(\"ball\")\n",
    "        print(n)"
   ]
  },
  {
   "cell_type": "code",
   "execution_count": 52,
   "metadata": {},
   "outputs": [
    {
     "name": "stdout",
     "output_type": "stream",
     "text": [
      "0\n",
      "3\n",
      "5\n"
     ]
    }
   ],
   "source": [
    "a = [\"ball\",\"Zebra\", \"xray\", \"ball\", \"fish\", \"ball\"] \n",
    "for i in range(len(a)):\n",
    "    if a[i] == \"ball\":\n",
    "       \n",
    "       print(i)"
   ]
  },
  {
   "cell_type": "code",
   "execution_count": 54,
   "metadata": {},
   "outputs": [
    {
     "name": "stdout",
     "output_type": "stream",
     "text": [
      "0\n",
      "3\n",
      "5\n",
      "[0, 3, 5]\n"
     ]
    }
   ],
   "source": [
    "index = []\n",
    "a = [\"ball\",\"Zebra\", \"xray\", \"ball\", \"fish\", \"ball\"] \n",
    "for i in range(len(a)):\n",
    "    if a[i] == \"ball\":\n",
    "       \n",
    "        print(i)\n",
    "        index.append(i)\n",
    "    \n",
    "print(index)"
   ]
  },
  {
   "cell_type": "code",
   "execution_count": 1,
   "metadata": {},
   "outputs": [
    {
     "name": "stdout",
     "output_type": "stream",
     "text": [
      "[[], [], [], []]\n",
      "4\n"
     ]
    }
   ],
   "source": [
    "# list inside list \n",
    "a = [[],[],[],[]]\n",
    "print(a)\n",
    "print(len(a))"
   ]
  },
  {
   "cell_type": "code",
   "execution_count": 3,
   "metadata": {},
   "outputs": [
    {
     "name": "stdout",
     "output_type": "stream",
     "text": [
      "[[1, 2, 3], [4, 5, 6], [7, 8, 9]]\n",
      "3\n"
     ]
    }
   ],
   "source": [
    "a = [[1,2,3],\n",
    "    [4,5,6],\n",
    "    [7,8,9]]\n",
    "print(a)\n",
    "print(len(a))"
   ]
  },
  {
   "cell_type": "code",
   "execution_count": 4,
   "metadata": {},
   "outputs": [
    {
     "name": "stdout",
     "output_type": "stream",
     "text": [
      "[[1, 2, 3], [4, 5, 6]]\n"
     ]
    }
   ],
   "source": [
    "a = [[1,2,3]]\n",
    "b = [[4,5,6]]\n",
    "c = print(a+b)"
   ]
  },
  {
   "cell_type": "code",
   "execution_count": 5,
   "metadata": {},
   "outputs": [
    {
     "name": "stdout",
     "output_type": "stream",
     "text": [
      "[1, 2, 3, 4, 5, 6]\n"
     ]
    }
   ],
   "source": [
    "a = [1,2,3]\n",
    "b = [4,5,6]\n",
    "c = print(a+b)"
   ]
  },
  {
   "cell_type": "code",
   "execution_count": 6,
   "metadata": {},
   "outputs": [
    {
     "name": "stdout",
     "output_type": "stream",
     "text": [
      "2\n"
     ]
    }
   ],
   "source": [
    "a = [[1,2,3]]\n",
    "b = [[4,5,6]]\n",
    "c = (a+b)\n",
    "print(len(c))"
   ]
  },
  {
   "cell_type": "code",
   "execution_count": 7,
   "metadata": {},
   "outputs": [
    {
     "name": "stdout",
     "output_type": "stream",
     "text": [
      "[[1, 2, 3], [4, 5, 6]]\n"
     ]
    }
   ],
   "source": [
    "a = [[1,2,3]]\n",
    "b = [[4,5,6]]\n",
    "print(a+b)"
   ]
  },
  {
   "cell_type": "code",
   "execution_count": 10,
   "metadata": {},
   "outputs": [
    {
     "name": "stdout",
     "output_type": "stream",
     "text": [
      "Enter i= 2\n",
      "Enter j = 2\n",
      "Enter x = 34\n",
      "Enter x = 56\n",
      "Enter x = 56\n",
      "Enter x = 54\n",
      "[34, 56, [...], 56, 54, [...]]\n"
     ]
    }
   ],
   "source": [
    "my_list = []\n",
    "i = int(input(\"Enter i= \"))\n",
    "j = int(input(\"Enter j = \"))\n",
    "for a in range(i):\n",
    "    my_list1 = []\n",
    "    for b in range(j):\n",
    "        x  = int(input(\"Enter x = \"))\n",
    "        my_list.append(x)\n",
    "        \n",
    "    my_list.append(my_list)\n",
    "    \n",
    "print(my_list)"
   ]
  },
  {
   "cell_type": "code",
   "execution_count": 2,
   "metadata": {},
   "outputs": [
    {
     "name": "stdout",
     "output_type": "stream",
     "text": [
      "Enter n = 2\n",
      "Enter name = Ram\n",
      "Enter phone = 938838833\n",
      "Enter name = shyam\n",
      "Enter phone = 838388383838\n",
      "Ram---938838833\n",
      "shyam---838388383838\n",
      "\n"
     ]
    }
   ],
   "source": [
    "s = \"\"\n",
    "n = int(input(\"Enter n = \"))\n",
    "for i in range(n):\n",
    "    name = input(\"Enter name = \")\n",
    "    phone = input(\"Enter phone = \")\n",
    "    info = f\"{name}---{phone}\\n\"\n",
    "    s = s+info\n",
    "print(s)"
   ]
  },
  {
   "cell_type": "code",
   "execution_count": 2,
   "metadata": {},
   "outputs": [
    {
     "data": {
      "text/plain": [
       "['Ram---9874747', 'Shyam---874748484', '']"
      ]
     },
     "execution_count": 2,
     "metadata": {},
     "output_type": "execute_result"
    }
   ],
   "source": [
    "s.split('\\n')"
   ]
  },
  {
   "cell_type": "code",
   "execution_count": 4,
   "metadata": {},
   "outputs": [
    {
     "data": {
      "text/plain": [
       "['Ram---9874747', 'Shyam---874748484']"
      ]
     },
     "execution_count": 4,
     "metadata": {},
     "output_type": "execute_result"
    }
   ],
   "source": [
    "x = s.split('\\n')[0:-1]\n",
    "x"
   ]
  },
  {
   "cell_type": "code",
   "execution_count": 6,
   "metadata": {},
   "outputs": [
    {
     "data": {
      "text/plain": [
       "[['Ram', '9874747'], ['Shyam', '874748484']]"
      ]
     },
     "execution_count": 6,
     "metadata": {},
     "output_type": "execute_result"
    }
   ],
   "source": [
    "data = []\n",
    "for i in range(2):\n",
    "    y = x[i].split('---')\n",
    "    data.append(y)\n",
    "data"
   ]
  },
  {
   "cell_type": "code",
   "execution_count": 1,
   "metadata": {},
   "outputs": [
    {
     "name": "stdout",
     "output_type": "stream",
     "text": [
      "Enter n = 2\n",
      "Enter name = Ram\n",
      "Enter phone = 9847474\n",
      "Enter name = Shyam\n",
      "Enter phone = 98373773\n",
      "[['Ram', 9847474], ['Shyam', 98373773]]\n"
     ]
    }
   ],
   "source": [
    "data = []    # always remember create empty list in list inside list \n",
    "n = int(input(\"Enter n = \"))\n",
    "for i in range(n):\n",
    "    name = input(\"Enter name = \")\n",
    "    phone = int(input(\"Enter phone = \"))\n",
    "    info = [name,phone]\n",
    "    data.append(info)\n",
    "print(data)"
   ]
  },
  {
   "cell_type": "code",
   "execution_count": 7,
   "metadata": {},
   "outputs": [
    {
     "name": "stdout",
     "output_type": "stream",
     "text": [
      "Enter n = 2\n",
      "Enter name = Ram\n",
      "Enter phone = 9837377373\n",
      "[['Ram', 9837377373]]\n",
      "Enter name = Shyam\n",
      "Enter phone = 9837377373733\n",
      "[['Ram', 9837377373], ['Shyam', 9837377373733]]\n"
     ]
    }
   ],
   "source": [
    "data = []    # always remember create empty list in list inside list \n",
    "n = int(input(\"Enter n = \"))\n",
    "for i in range(n):\n",
    "    name = input(\"Enter name = \")\n",
    "    phone = int(input(\"Enter phone = \"))\n",
    "    info = [[name,phone]]\n",
    "    data = data+info\n",
    "    print(data)"
   ]
  },
  {
   "cell_type": "code",
   "execution_count": 10,
   "metadata": {},
   "outputs": [
    {
     "data": {
      "text/plain": [
       "['Ram', 987474747]"
      ]
     },
     "execution_count": 10,
     "metadata": {},
     "output_type": "execute_result"
    }
   ],
   "source": [
    "a = [['Ram', 987474747], ['shyam', 9837474747]]\n",
    "a[0]"
   ]
  },
  {
   "cell_type": "code",
   "execution_count": 13,
   "metadata": {},
   "outputs": [
    {
     "data": {
      "text/plain": [
       "987474747"
      ]
     },
     "execution_count": 13,
     "metadata": {},
     "output_type": "execute_result"
    }
   ],
   "source": [
    "a = [['Ram', 987474747], ['shyam', 9837474747]]\n",
    "a[0][1]"
   ]
  },
  {
   "cell_type": "code",
   "execution_count": 14,
   "metadata": {},
   "outputs": [
    {
     "data": {
      "text/plain": [
       "'shyam'"
      ]
     },
     "execution_count": 14,
     "metadata": {},
     "output_type": "execute_result"
    }
   ],
   "source": [
    "a = [['Ram', 987474747], ['shyam', 9837474747]]\n",
    "a[1][0]"
   ]
  },
  {
   "cell_type": "code",
   "execution_count": 15,
   "metadata": {},
   "outputs": [
    {
     "name": "stdout",
     "output_type": "stream",
     "text": [
      "['Ram', 987474747]\n",
      "['shyam', 9837474747]\n"
     ]
    }
   ],
   "source": [
    "for i in a:\n",
    "    print(i)"
   ]
  },
  {
   "cell_type": "code",
   "execution_count": 16,
   "metadata": {},
   "outputs": [
    {
     "data": {
      "text/plain": [
       "[['Ram', 987474747], ['shyam', 983747474]]"
      ]
     },
     "execution_count": 16,
     "metadata": {},
     "output_type": "execute_result"
    }
   ],
   "source": [
    "a = [['Ram', 987474747], ['shyam', 983747474],['Ram', 987474747], ['shyam', 983747474]]\n",
    "a[0:2]"
   ]
  },
  {
   "cell_type": "code",
   "execution_count": 3,
   "metadata": {},
   "outputs": [
    {
     "name": "stdout",
     "output_type": "stream",
     "text": [
      "[['Ram prasad', 987474747], ['shyam', 983747474]]\n"
     ]
    }
   ],
   "source": [
    "a = [['Ram', 987474747], ['shyam', 983747474]]\n",
    "a[0][0] = \"Ram prasad\"\n",
    "print(a)"
   ]
  },
  {
   "cell_type": "code",
   "execution_count": 4,
   "metadata": {},
   "outputs": [
    {
     "name": "stdout",
     "output_type": "stream",
     "text": [
      "[[987474747], ['shyam', 983747474]]\n"
     ]
    }
   ],
   "source": [
    "a = [['Ram', 987474747], ['shyam', 983747474]]\n",
    "del a[0][0]\n",
    "print(a)"
   ]
  },
  {
   "cell_type": "code",
   "execution_count": 2,
   "metadata": {},
   "outputs": [
    {
     "name": "stdout",
     "output_type": "stream",
     "text": [
      "[['shyam', 983747474]]\n"
     ]
    }
   ],
   "source": [
    "a = [['Ram', 987474747],['shyam', 983747474]]\n",
    "a.remove(a[0])\n",
    "print(a)"
   ]
  },
  {
   "cell_type": "code",
   "execution_count": 6,
   "metadata": {},
   "outputs": [
    {
     "name": "stdout",
     "output_type": "stream",
     "text": [
      "Enter n = 2\n",
      "Enter name = Ram\n",
      "Enter physics marks = 60\n",
      "Enter chemistry marks = 67\n",
      "Enter math marks = 85\n",
      "Enter english marks = 57\n",
      "Enter nepali marks = 47\n",
      "Enter name = Shyam\n",
      "Enter physics marks = 86\n",
      "Enter chemistry marks = 58\n",
      "Enter math marks = 68\n",
      "Enter english marks = 67\n",
      "Enter nepali marks = 67\n"
     ]
    },
    {
     "data": {
      "text/plain": [
       "[[1, 'Ram', 60, 67, 85, 57, 47, 316, 63.2],\n",
       " [2, 'Shyam', 86, 58, 68, 67, 67, 346, 69.2]]"
      ]
     },
     "execution_count": 6,
     "metadata": {},
     "output_type": "execute_result"
    }
   ],
   "source": [
    "result = []\n",
    "n = int(input(\"Enter n = \"))\n",
    "for i in range(1,n+1):\n",
    "    name = input(\"Enter name = \")\n",
    "    physics = int(input(\"Enter physics marks = \"))\n",
    "    chemistry = int(input(\"Enter chemistry marks = \"))\n",
    "    math = int(input(\"Enter math marks = \"))\n",
    "    english = int(input(\"Enter english marks = \"))\n",
    "    nepali = int(input(\"Enter nepali marks = \"))\n",
    "    total = sum([physics,chemistry,math,english,nepali])   \n",
    "    per = total/5\n",
    "    data = [i,name,physics,chemistry,math,english,nepali,total,per]\n",
    "    result.append(data)\n",
    "result\n",
    "\n"
   ]
  },
  {
   "cell_type": "code",
   "execution_count": 9,
   "metadata": {},
   "outputs": [
    {
     "name": "stdout",
     "output_type": "stream",
     "text": [
      "Enter roll = 1\n"
     ]
    },
    {
     "data": {
      "text/plain": [
       "[1, 'Ram', 60, 67, 85, 57, 47, 316, 63.2]"
      ]
     },
     "execution_count": 9,
     "metadata": {},
     "output_type": "execute_result"
    }
   ],
   "source": [
    "roll = int(input(\"Enter roll = \"))\n",
    "result[roll-1]"
   ]
  },
  {
   "cell_type": "code",
   "execution_count": 12,
   "metadata": {},
   "outputs": [
    {
     "name": "stdout",
     "output_type": "stream",
     "text": [
      "[[1, 'Ram', 65, 67, 85, 57, 47, 321, 64.2], [2, 'Shyam', 86, 58, 68, 67, 67, 346, 69.2]]\n"
     ]
    }
   ],
   "source": [
    "result[0][2] = 65\n",
    "s = result[0][2:7]\n",
    "net_sum = sum(s)\n",
    "result[0][7] = net_sum\n",
    "result[0][-1] = net_sum/5\n",
    "print(result)"
   ]
  },
  {
   "cell_type": "code",
   "execution_count": 3,
   "metadata": {},
   "outputs": [
    {
     "name": "stdout",
     "output_type": "stream",
     "text": [
      "Enter n = 2\n",
      "Enter name = Ram\n",
      "Enter  item = mobile\n",
      "Enter price = 10000\n",
      "Enter name = shyam\n",
      "Enter  item = watch\n",
      "Enter price = 3000\n",
      "Enter name = Hari \n",
      "Enter  item = TV\n",
      "Enter price = 15000\n",
      "[[0, 'Ram', 'mobile', 10000], [1, 'shyam', 'watch', 3000], [2, 'Hari ', 'TV', 15000]]\n"
     ]
    }
   ],
   "source": [
    "#  WAP for billing system \n",
    "\n",
    "bill = []\n",
    "n = int(input(\"Enter n = \"))\n",
    "for i in range(n+1):\n",
    "    name = input(\"Enter name = \")\n",
    "    item = input(\"Enter  item = \")\n",
    "    price = int(input(\"Enter price = \"))\n",
    "    data = [i,name, item,price]\n",
    "    bill.append(data)\n",
    "print(bill)"
   ]
  },
  {
   "cell_type": "code",
   "execution_count": null,
   "metadata": {},
   "outputs": [
    {
     "name": "stdout",
     "output_type": "stream",
     "text": [
      "Enter n = 2\n",
      "Enter the customer name = Ram\n",
      "Enter product name = Mobile\n"
     ]
    }
   ],
   "source": [
    "bill = []\n",
    "n = int(input(\"Enter n = \"))\n",
    "for i in range(n):\n",
    "    name = input(\"Enter the customer name = \")\n",
    "    product = input(\"Enter product name = \")\n",
    "    quantity = int(input(\"Enter quantity  = \"))\n",
    "    price = int(input(\"Enter price of product  = \"))\n",
    "    if price > 100:\n",
    "        s = price-(price*0.1)\n",
    "        total_price = quantity*s\n",
    "    else:\n",
    "        total_price =quantity*price\n",
    "    display = [i,name,product,quantity,price,total_price]\n",
    "    bill.append(display)\n",
    "print(bill)\n",
    "    "
   ]
  },
  {
   "cell_type": "code",
   "execution_count": null,
   "metadata": {},
   "outputs": [],
   "source": []
  }
 ],
 "metadata": {
  "kernelspec": {
   "display_name": "Python 3",
   "language": "python",
   "name": "python3"
  },
  "language_info": {
   "codemirror_mode": {
    "name": "ipython",
    "version": 3
   },
   "file_extension": ".py",
   "mimetype": "text/x-python",
   "name": "python",
   "nbconvert_exporter": "python",
   "pygments_lexer": "ipython3",
   "version": "3.8.5"
  }
 },
 "nbformat": 4,
 "nbformat_minor": 4
}
